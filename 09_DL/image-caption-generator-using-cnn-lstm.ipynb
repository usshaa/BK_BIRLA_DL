{
 "cells": [
  {
   "cell_type": "markdown",
   "id": "f409b276",
   "metadata": {
    "papermill": {
     "duration": 0.061245,
     "end_time": "2024-03-24T12:45:45.044154",
     "exception": false,
     "start_time": "2024-03-24T12:45:44.982909",
     "status": "completed"
    },
    "tags": []
   },
   "source": [
    "# **Introduction**\n",
    "In recent years, there has been a growing interest in leveraging deep learning techniques to bridge the gap between computer vision and natural language understanding. Image captioning, a task that involves generating human-like descriptions for images, has emerged as a compelling application of this interdisciplinary research. By enabling machines to understand and describe visual content in natural language, image captioning holds promise for a wide range of applications, including assistive technologies for the visually impaired, content-based image retrieval, and enhancing human-computer interaction.\n",
    "\n",
    "## **Project Goals**\n",
    "The primary objective of this project is to develop a deep learning model capable of generating descriptive captions for images automatically. We aim to harness the complementary strengths of CNNs and LSTMs to extract meaningful image features and generate coherent textual descriptions. By training our model on the Flickr8k dataset, we seek to demonstrate its ability to produce accurate and contextually relevant captions for a diverse range of images.\n",
    "\n",
    "## **Dataset Description**\n",
    "We will be using the Flickr8k dataset, a widely used benchmark dataset for image captioning research. The dataset consists of 8,000 images collected from the Flickr website, each paired with five descriptive captions. These captions provide rich and diverse annotations for the images, covering a wide range of semantic concepts and linguistic styles. By leveraging this dataset, we can train our model to understand the visual content of images and generate corresponding textual descriptions effectively."
   ]
  },
  {
   "cell_type": "markdown",
   "id": "30419004",
   "metadata": {
    "_cell_guid": "b1076dfc-b9ad-4769-8c92-a6c4dae69d19",
    "_uuid": "8f2839f25d086af736a60e9eeb907d3b93b6e0e5",
    "papermill": {
     "duration": 0.059427,
     "end_time": "2024-03-24T12:45:45.162677",
     "exception": false,
     "start_time": "2024-03-24T12:45:45.103250",
     "status": "completed"
    },
    "tags": []
   },
   "source": [
    "<img src=\"https://miro.medium.com/max/1400/1*6BFOIdSHlk24Z3DFEakvnQ.png\">"
   ]
  },
  {
   "cell_type": "markdown",
   "id": "0ab8f6a1",
   "metadata": {
    "papermill": {
     "duration": 0.058113,
     "end_time": "2024-03-24T12:45:45.280074",
     "exception": false,
     "start_time": "2024-03-24T12:45:45.221961",
     "status": "completed"
    },
    "tags": []
   },
   "source": [
    "# **Model Architecture:**\n",
    "​\n",
    "Our image captioning model architecture combines the strengths of Convolutional Neural Networks (CNNs) and Long Short-Term Memory networks (LSTMs). Here's how it works:\n",
    "​\n",
    "### **Convolutional Neural Network (CNN):**\n",
    "​\n",
    "We utilize a pre-trained CNN, such as VGG16 or ResNet, to extract features from input images. In the provided code, we use the VGG16 model pre-trained on the ImageNet dataset.\n",
    "By removing the fully connected layers of the CNN and keeping the convolutional layers, we obtain a fixed-size feature vector representing each image's visual content.\n",
    "​\n",
    "### **Long Short-Term Memory network (LSTM):**\n",
    "​\n",
    "The LSTM component processes the image features extracted by the CNN and generates captions word by word.\n",
    "In the code, we implement an LSTM-based sequence-to-sequence architecture, where the image features serve as input to the LSTM decoder.\n",
    "The LSTM decoder generates a sequence of words one token at a time, conditioning each word on the previously generated words and the image features.\n"
   ]
  },
  {
   "cell_type": "markdown",
   "id": "3db347c4",
   "metadata": {
    "papermill": {
     "duration": 0.058849,
     "end_time": "2024-03-24T12:45:45.398103",
     "exception": false,
     "start_time": "2024-03-24T12:45:45.339254",
     "status": "completed"
    },
    "tags": []
   },
   "source": [
    "# **Training Process:**\n",
    "\n",
    "Our model is trained using the Flickr8k dataset, following these steps:\n",
    "\n",
    "### **Feature Extraction:**\n",
    "\n",
    "We use the pre-trained CNN (VGG16) to extract image features. These features are obtained by passing each image through the CNN and extracting the output of a specific layer.\n",
    "In the provided code, we extract features from the 'block5_conv3' layer of VGG16, resulting in a 7x7x512 feature tensor for each image.\n",
    "\n",
    "### **Caption Generation:**\n",
    "\n",
    "The LSTM decoder takes the image features and generates captions word by word.\n",
    "During training, the LSTM decoder is fed the image features along with the start token \"<start>\" to initiate the caption generation process.\n",
    "The decoder generates the next word in the sequence based on the previous word and the image features, using teacher forcing to provide the ground truth word at each step.\n",
    "    \n",
    "### **Loss Calculation:**\n",
    "\n",
    "We calculate the loss between the predicted captions and the ground truth captions using categorical cross-entropy loss.\n",
    "The loss is computed over all time steps and all training samples and serves as a measure of how well the model is performing.\n",
    "\n",
    "### **Evaluation and Fine-Tuning:**\n",
    "\n",
    "We evaluate the model's performance using metrics such as BLEU score, which compares the generated captions with the reference captions.\n",
    "Hyperparameters like learning rate, batch size, and optimizer settings are fine-tuned to improve the model's performance on the validation set."
   ]
  },
  {
   "cell_type": "markdown",
   "id": "d9ffa448",
   "metadata": {
    "papermill": {
     "duration": 0.05849,
     "end_time": "2024-03-24T12:45:45.515872",
     "exception": false,
     "start_time": "2024-03-24T12:45:45.457382",
     "status": "completed"
    },
    "tags": []
   },
   "source": [
    "#### Let's Begin to code."
   ]
  },
  {
   "cell_type": "markdown",
   "id": "160a0154",
   "metadata": {
    "papermill": {
     "duration": 0.0583,
     "end_time": "2024-03-24T12:45:45.632891",
     "exception": false,
     "start_time": "2024-03-24T12:45:45.574591",
     "status": "completed"
    },
    "tags": []
   },
   "source": [
    "# Import Modules "
   ]
  },
  {
   "cell_type": "code",
   "execution_count": 11,
   "id": "347a45b8",
   "metadata": {
    "execution": {
     "iopub.execute_input": "2025-09-16T14:52:18.582728Z",
     "iopub.status.busy": "2025-09-16T14:52:18.582454Z",
     "iopub.status.idle": "2025-09-16T14:52:18.588095Z",
     "shell.execute_reply": "2025-09-16T14:52:18.587317Z",
     "shell.execute_reply.started": "2025-09-16T14:52:18.582709Z"
    },
    "papermill": {
     "duration": 5.558387,
     "end_time": "2024-03-24T12:45:51.251354",
     "exception": false,
     "start_time": "2024-03-24T12:45:45.692967",
     "status": "completed"
    },
    "tags": [],
    "trusted": true
   },
   "outputs": [],
   "source": [
    "import os   # handling the files\n",
    "import pickle # storing numpy features\n",
    "import numpy as np\n",
    "from tqdm.notebook import tqdm # how much data is process till now\n",
    "\n",
    "from tensorflow.keras.applications.vgg16 import VGG16 , preprocess_input # extract features from image data.\n",
    "from tensorflow.keras.preprocessing.image import load_img , img_to_array\n",
    "from tensorflow.keras.preprocessing.text import Tokenizer\n",
    "from tensorflow.keras.preprocessing.sequence import pad_sequences\n",
    "from tensorflow.keras.models import Model\n",
    "from tensorflow.keras.utils import to_categorical, plot_model\n",
    "from tensorflow.keras.layers import Input , Dense , LSTM , Embedding , Dropout , add"
   ]
  },
  {
   "cell_type": "markdown",
   "id": "59ba908e",
   "metadata": {
    "papermill": {
     "duration": 0.058526,
     "end_time": "2024-03-24T12:45:51.369271",
     "exception": false,
     "start_time": "2024-03-24T12:45:51.310745",
     "status": "completed"
    },
    "tags": []
   },
   "source": [
    "**os** - used to handle files using system commands.\n",
    "\n",
    "**pickle** - used to store numpy features extracted\n",
    "\n",
    "**numpy** - used to perform a wide variety of mathematical operations on arrays\n",
    "\n",
    "**tqdm** - progress bar decorator for iterators. Includes a default range iterator printing to stderr.\n",
    "\n",
    "**VGG16, preprocess_input** - imported modules for feature extraction from the image data\n",
    "\n",
    "**load_img, img_to_array** - used for loading the image and converting the image to a numpy array\n",
    "\n",
    "**Tokenizer** - used for loading the text as convert them into a token\n",
    "\n",
    "**pad_sequences** - used for equal distribution of words in sentences filling the remaining spaces with zeros\n",
    "\n",
    "**plot_model** - used to visualize the architecture of the model through different images"
   ]
  },
  {
   "cell_type": "markdown",
   "id": "fab49f73",
   "metadata": {
    "papermill": {
     "duration": 0.059191,
     "end_time": "2024-03-24T12:45:51.487178",
     "exception": false,
     "start_time": "2024-03-24T12:45:51.427987",
     "status": "completed"
    },
    "tags": []
   },
   "source": [
    "#### Now we must set the directories to use the data"
   ]
  },
  {
   "cell_type": "code",
   "execution_count": 12,
   "id": "6e97aff8",
   "metadata": {
    "execution": {
     "iopub.execute_input": "2025-09-16T14:52:18.590066Z",
     "iopub.status.busy": "2025-09-16T14:52:18.589610Z",
     "iopub.status.idle": "2025-09-16T14:52:18.609524Z",
     "shell.execute_reply": "2025-09-16T14:52:18.608622Z",
     "shell.execute_reply.started": "2025-09-16T14:52:18.590040Z"
    },
    "papermill": {
     "duration": 0.065462,
     "end_time": "2024-03-24T12:45:51.611397",
     "exception": false,
     "start_time": "2024-03-24T12:45:51.545935",
     "status": "completed"
    },
    "tags": [],
    "trusted": true
   },
   "outputs": [],
   "source": [
    "BASE_DIR = '/kaggle/input/flickr8k'\n",
    "WORKING_DIR = '/kaggle/working'"
   ]
  },
  {
   "cell_type": "markdown",
   "id": "f0320629",
   "metadata": {
    "papermill": {
     "duration": 0.058556,
     "end_time": "2024-03-24T12:45:51.728245",
     "exception": false,
     "start_time": "2024-03-24T12:45:51.669689",
     "status": "completed"
    },
    "tags": []
   },
   "source": [
    "# Extract Image Features\n",
    "\n",
    "We have to load and restructure the model\n",
    "\n",
    "VGG-16 is a convolutional neural network that is 16 layers deep. You can load a pretrained version of the network trained on more than a million images from the ImageNet database [1]. The pretrained network can classify images into 1000 object categories, such as keyboard, mouse, pencil, and many animals."
   ]
  },
  {
   "cell_type": "code",
   "execution_count": 13,
   "id": "c85ae1a4",
   "metadata": {
    "execution": {
     "iopub.execute_input": "2025-09-16T14:52:18.610695Z",
     "iopub.status.busy": "2025-09-16T14:52:18.610444Z",
     "iopub.status.idle": "2025-09-16T14:52:21.042301Z",
     "shell.execute_reply": "2025-09-16T14:52:21.041661Z",
     "shell.execute_reply.started": "2025-09-16T14:52:18.610672Z"
    },
    "papermill": {
     "duration": 6.423956,
     "end_time": "2024-03-24T12:45:58.212203",
     "exception": false,
     "start_time": "2024-03-24T12:45:51.788247",
     "status": "completed"
    },
    "tags": [],
    "trusted": true
   },
   "outputs": [
    {
     "data": {
      "text/html": [
       "<pre style=\"white-space:pre;overflow-x:auto;line-height:normal;font-family:Menlo,'DejaVu Sans Mono',consolas,'Courier New',monospace\"><span style=\"font-weight: bold\">Model: \"functional_1\"</span>\n",
       "</pre>\n"
      ],
      "text/plain": [
       "\u001b[1mModel: \"functional_1\"\u001b[0m\n"
      ]
     },
     "metadata": {},
     "output_type": "display_data"
    },
    {
     "data": {
      "text/html": [
       "<pre style=\"white-space:pre;overflow-x:auto;line-height:normal;font-family:Menlo,'DejaVu Sans Mono',consolas,'Courier New',monospace\">┏━━━━━━━━━━━━━━━━━━━━━━━━━━━━━━━━━┳━━━━━━━━━━━━━━━━━━━━━━━━┳━━━━━━━━━━━━━━━┓\n",
       "┃<span style=\"font-weight: bold\"> Layer (type)                    </span>┃<span style=\"font-weight: bold\"> Output Shape           </span>┃<span style=\"font-weight: bold\">       Param # </span>┃\n",
       "┡━━━━━━━━━━━━━━━━━━━━━━━━━━━━━━━━━╇━━━━━━━━━━━━━━━━━━━━━━━━╇━━━━━━━━━━━━━━━┩\n",
       "│ input_layer_1 (<span style=\"color: #0087ff; text-decoration-color: #0087ff\">InputLayer</span>)      │ (<span style=\"color: #00d7ff; text-decoration-color: #00d7ff\">None</span>, <span style=\"color: #00af00; text-decoration-color: #00af00\">224</span>, <span style=\"color: #00af00; text-decoration-color: #00af00\">224</span>, <span style=\"color: #00af00; text-decoration-color: #00af00\">3</span>)    │             <span style=\"color: #00af00; text-decoration-color: #00af00\">0</span> │\n",
       "├─────────────────────────────────┼────────────────────────┼───────────────┤\n",
       "│ block1_conv1 (<span style=\"color: #0087ff; text-decoration-color: #0087ff\">Conv2D</span>)           │ (<span style=\"color: #00d7ff; text-decoration-color: #00d7ff\">None</span>, <span style=\"color: #00af00; text-decoration-color: #00af00\">224</span>, <span style=\"color: #00af00; text-decoration-color: #00af00\">224</span>, <span style=\"color: #00af00; text-decoration-color: #00af00\">64</span>)   │         <span style=\"color: #00af00; text-decoration-color: #00af00\">1,792</span> │\n",
       "├─────────────────────────────────┼────────────────────────┼───────────────┤\n",
       "│ block1_conv2 (<span style=\"color: #0087ff; text-decoration-color: #0087ff\">Conv2D</span>)           │ (<span style=\"color: #00d7ff; text-decoration-color: #00d7ff\">None</span>, <span style=\"color: #00af00; text-decoration-color: #00af00\">224</span>, <span style=\"color: #00af00; text-decoration-color: #00af00\">224</span>, <span style=\"color: #00af00; text-decoration-color: #00af00\">64</span>)   │        <span style=\"color: #00af00; text-decoration-color: #00af00\">36,928</span> │\n",
       "├─────────────────────────────────┼────────────────────────┼───────────────┤\n",
       "│ block1_pool (<span style=\"color: #0087ff; text-decoration-color: #0087ff\">MaxPooling2D</span>)      │ (<span style=\"color: #00d7ff; text-decoration-color: #00d7ff\">None</span>, <span style=\"color: #00af00; text-decoration-color: #00af00\">112</span>, <span style=\"color: #00af00; text-decoration-color: #00af00\">112</span>, <span style=\"color: #00af00; text-decoration-color: #00af00\">64</span>)   │             <span style=\"color: #00af00; text-decoration-color: #00af00\">0</span> │\n",
       "├─────────────────────────────────┼────────────────────────┼───────────────┤\n",
       "│ block2_conv1 (<span style=\"color: #0087ff; text-decoration-color: #0087ff\">Conv2D</span>)           │ (<span style=\"color: #00d7ff; text-decoration-color: #00d7ff\">None</span>, <span style=\"color: #00af00; text-decoration-color: #00af00\">112</span>, <span style=\"color: #00af00; text-decoration-color: #00af00\">112</span>, <span style=\"color: #00af00; text-decoration-color: #00af00\">128</span>)  │        <span style=\"color: #00af00; text-decoration-color: #00af00\">73,856</span> │\n",
       "├─────────────────────────────────┼────────────────────────┼───────────────┤\n",
       "│ block2_conv2 (<span style=\"color: #0087ff; text-decoration-color: #0087ff\">Conv2D</span>)           │ (<span style=\"color: #00d7ff; text-decoration-color: #00d7ff\">None</span>, <span style=\"color: #00af00; text-decoration-color: #00af00\">112</span>, <span style=\"color: #00af00; text-decoration-color: #00af00\">112</span>, <span style=\"color: #00af00; text-decoration-color: #00af00\">128</span>)  │       <span style=\"color: #00af00; text-decoration-color: #00af00\">147,584</span> │\n",
       "├─────────────────────────────────┼────────────────────────┼───────────────┤\n",
       "│ block2_pool (<span style=\"color: #0087ff; text-decoration-color: #0087ff\">MaxPooling2D</span>)      │ (<span style=\"color: #00d7ff; text-decoration-color: #00d7ff\">None</span>, <span style=\"color: #00af00; text-decoration-color: #00af00\">56</span>, <span style=\"color: #00af00; text-decoration-color: #00af00\">56</span>, <span style=\"color: #00af00; text-decoration-color: #00af00\">128</span>)    │             <span style=\"color: #00af00; text-decoration-color: #00af00\">0</span> │\n",
       "├─────────────────────────────────┼────────────────────────┼───────────────┤\n",
       "│ block3_conv1 (<span style=\"color: #0087ff; text-decoration-color: #0087ff\">Conv2D</span>)           │ (<span style=\"color: #00d7ff; text-decoration-color: #00d7ff\">None</span>, <span style=\"color: #00af00; text-decoration-color: #00af00\">56</span>, <span style=\"color: #00af00; text-decoration-color: #00af00\">56</span>, <span style=\"color: #00af00; text-decoration-color: #00af00\">256</span>)    │       <span style=\"color: #00af00; text-decoration-color: #00af00\">295,168</span> │\n",
       "├─────────────────────────────────┼────────────────────────┼───────────────┤\n",
       "│ block3_conv2 (<span style=\"color: #0087ff; text-decoration-color: #0087ff\">Conv2D</span>)           │ (<span style=\"color: #00d7ff; text-decoration-color: #00d7ff\">None</span>, <span style=\"color: #00af00; text-decoration-color: #00af00\">56</span>, <span style=\"color: #00af00; text-decoration-color: #00af00\">56</span>, <span style=\"color: #00af00; text-decoration-color: #00af00\">256</span>)    │       <span style=\"color: #00af00; text-decoration-color: #00af00\">590,080</span> │\n",
       "├─────────────────────────────────┼────────────────────────┼───────────────┤\n",
       "│ block3_conv3 (<span style=\"color: #0087ff; text-decoration-color: #0087ff\">Conv2D</span>)           │ (<span style=\"color: #00d7ff; text-decoration-color: #00d7ff\">None</span>, <span style=\"color: #00af00; text-decoration-color: #00af00\">56</span>, <span style=\"color: #00af00; text-decoration-color: #00af00\">56</span>, <span style=\"color: #00af00; text-decoration-color: #00af00\">256</span>)    │       <span style=\"color: #00af00; text-decoration-color: #00af00\">590,080</span> │\n",
       "├─────────────────────────────────┼────────────────────────┼───────────────┤\n",
       "│ block3_pool (<span style=\"color: #0087ff; text-decoration-color: #0087ff\">MaxPooling2D</span>)      │ (<span style=\"color: #00d7ff; text-decoration-color: #00d7ff\">None</span>, <span style=\"color: #00af00; text-decoration-color: #00af00\">28</span>, <span style=\"color: #00af00; text-decoration-color: #00af00\">28</span>, <span style=\"color: #00af00; text-decoration-color: #00af00\">256</span>)    │             <span style=\"color: #00af00; text-decoration-color: #00af00\">0</span> │\n",
       "├─────────────────────────────────┼────────────────────────┼───────────────┤\n",
       "│ block4_conv1 (<span style=\"color: #0087ff; text-decoration-color: #0087ff\">Conv2D</span>)           │ (<span style=\"color: #00d7ff; text-decoration-color: #00d7ff\">None</span>, <span style=\"color: #00af00; text-decoration-color: #00af00\">28</span>, <span style=\"color: #00af00; text-decoration-color: #00af00\">28</span>, <span style=\"color: #00af00; text-decoration-color: #00af00\">512</span>)    │     <span style=\"color: #00af00; text-decoration-color: #00af00\">1,180,160</span> │\n",
       "├─────────────────────────────────┼────────────────────────┼───────────────┤\n",
       "│ block4_conv2 (<span style=\"color: #0087ff; text-decoration-color: #0087ff\">Conv2D</span>)           │ (<span style=\"color: #00d7ff; text-decoration-color: #00d7ff\">None</span>, <span style=\"color: #00af00; text-decoration-color: #00af00\">28</span>, <span style=\"color: #00af00; text-decoration-color: #00af00\">28</span>, <span style=\"color: #00af00; text-decoration-color: #00af00\">512</span>)    │     <span style=\"color: #00af00; text-decoration-color: #00af00\">2,359,808</span> │\n",
       "├─────────────────────────────────┼────────────────────────┼───────────────┤\n",
       "│ block4_conv3 (<span style=\"color: #0087ff; text-decoration-color: #0087ff\">Conv2D</span>)           │ (<span style=\"color: #00d7ff; text-decoration-color: #00d7ff\">None</span>, <span style=\"color: #00af00; text-decoration-color: #00af00\">28</span>, <span style=\"color: #00af00; text-decoration-color: #00af00\">28</span>, <span style=\"color: #00af00; text-decoration-color: #00af00\">512</span>)    │     <span style=\"color: #00af00; text-decoration-color: #00af00\">2,359,808</span> │\n",
       "├─────────────────────────────────┼────────────────────────┼───────────────┤\n",
       "│ block4_pool (<span style=\"color: #0087ff; text-decoration-color: #0087ff\">MaxPooling2D</span>)      │ (<span style=\"color: #00d7ff; text-decoration-color: #00d7ff\">None</span>, <span style=\"color: #00af00; text-decoration-color: #00af00\">14</span>, <span style=\"color: #00af00; text-decoration-color: #00af00\">14</span>, <span style=\"color: #00af00; text-decoration-color: #00af00\">512</span>)    │             <span style=\"color: #00af00; text-decoration-color: #00af00\">0</span> │\n",
       "├─────────────────────────────────┼────────────────────────┼───────────────┤\n",
       "│ block5_conv1 (<span style=\"color: #0087ff; text-decoration-color: #0087ff\">Conv2D</span>)           │ (<span style=\"color: #00d7ff; text-decoration-color: #00d7ff\">None</span>, <span style=\"color: #00af00; text-decoration-color: #00af00\">14</span>, <span style=\"color: #00af00; text-decoration-color: #00af00\">14</span>, <span style=\"color: #00af00; text-decoration-color: #00af00\">512</span>)    │     <span style=\"color: #00af00; text-decoration-color: #00af00\">2,359,808</span> │\n",
       "├─────────────────────────────────┼────────────────────────┼───────────────┤\n",
       "│ block5_conv2 (<span style=\"color: #0087ff; text-decoration-color: #0087ff\">Conv2D</span>)           │ (<span style=\"color: #00d7ff; text-decoration-color: #00d7ff\">None</span>, <span style=\"color: #00af00; text-decoration-color: #00af00\">14</span>, <span style=\"color: #00af00; text-decoration-color: #00af00\">14</span>, <span style=\"color: #00af00; text-decoration-color: #00af00\">512</span>)    │     <span style=\"color: #00af00; text-decoration-color: #00af00\">2,359,808</span> │\n",
       "├─────────────────────────────────┼────────────────────────┼───────────────┤\n",
       "│ block5_conv3 (<span style=\"color: #0087ff; text-decoration-color: #0087ff\">Conv2D</span>)           │ (<span style=\"color: #00d7ff; text-decoration-color: #00d7ff\">None</span>, <span style=\"color: #00af00; text-decoration-color: #00af00\">14</span>, <span style=\"color: #00af00; text-decoration-color: #00af00\">14</span>, <span style=\"color: #00af00; text-decoration-color: #00af00\">512</span>)    │     <span style=\"color: #00af00; text-decoration-color: #00af00\">2,359,808</span> │\n",
       "├─────────────────────────────────┼────────────────────────┼───────────────┤\n",
       "│ block5_pool (<span style=\"color: #0087ff; text-decoration-color: #0087ff\">MaxPooling2D</span>)      │ (<span style=\"color: #00d7ff; text-decoration-color: #00d7ff\">None</span>, <span style=\"color: #00af00; text-decoration-color: #00af00\">7</span>, <span style=\"color: #00af00; text-decoration-color: #00af00\">7</span>, <span style=\"color: #00af00; text-decoration-color: #00af00\">512</span>)      │             <span style=\"color: #00af00; text-decoration-color: #00af00\">0</span> │\n",
       "├─────────────────────────────────┼────────────────────────┼───────────────┤\n",
       "│ flatten (<span style=\"color: #0087ff; text-decoration-color: #0087ff\">Flatten</span>)               │ (<span style=\"color: #00d7ff; text-decoration-color: #00d7ff\">None</span>, <span style=\"color: #00af00; text-decoration-color: #00af00\">25088</span>)          │             <span style=\"color: #00af00; text-decoration-color: #00af00\">0</span> │\n",
       "├─────────────────────────────────┼────────────────────────┼───────────────┤\n",
       "│ fc1 (<span style=\"color: #0087ff; text-decoration-color: #0087ff\">Dense</span>)                     │ (<span style=\"color: #00d7ff; text-decoration-color: #00d7ff\">None</span>, <span style=\"color: #00af00; text-decoration-color: #00af00\">4096</span>)           │   <span style=\"color: #00af00; text-decoration-color: #00af00\">102,764,544</span> │\n",
       "├─────────────────────────────────┼────────────────────────┼───────────────┤\n",
       "│ fc2 (<span style=\"color: #0087ff; text-decoration-color: #0087ff\">Dense</span>)                     │ (<span style=\"color: #00d7ff; text-decoration-color: #00d7ff\">None</span>, <span style=\"color: #00af00; text-decoration-color: #00af00\">4096</span>)           │    <span style=\"color: #00af00; text-decoration-color: #00af00\">16,781,312</span> │\n",
       "└─────────────────────────────────┴────────────────────────┴───────────────┘\n",
       "</pre>\n"
      ],
      "text/plain": [
       "┏━━━━━━━━━━━━━━━━━━━━━━━━━━━━━━━━━┳━━━━━━━━━━━━━━━━━━━━━━━━┳━━━━━━━━━━━━━━━┓\n",
       "┃\u001b[1m \u001b[0m\u001b[1mLayer (type)                   \u001b[0m\u001b[1m \u001b[0m┃\u001b[1m \u001b[0m\u001b[1mOutput Shape          \u001b[0m\u001b[1m \u001b[0m┃\u001b[1m \u001b[0m\u001b[1m      Param #\u001b[0m\u001b[1m \u001b[0m┃\n",
       "┡━━━━━━━━━━━━━━━━━━━━━━━━━━━━━━━━━╇━━━━━━━━━━━━━━━━━━━━━━━━╇━━━━━━━━━━━━━━━┩\n",
       "│ input_layer_1 (\u001b[38;5;33mInputLayer\u001b[0m)      │ (\u001b[38;5;45mNone\u001b[0m, \u001b[38;5;34m224\u001b[0m, \u001b[38;5;34m224\u001b[0m, \u001b[38;5;34m3\u001b[0m)    │             \u001b[38;5;34m0\u001b[0m │\n",
       "├─────────────────────────────────┼────────────────────────┼───────────────┤\n",
       "│ block1_conv1 (\u001b[38;5;33mConv2D\u001b[0m)           │ (\u001b[38;5;45mNone\u001b[0m, \u001b[38;5;34m224\u001b[0m, \u001b[38;5;34m224\u001b[0m, \u001b[38;5;34m64\u001b[0m)   │         \u001b[38;5;34m1,792\u001b[0m │\n",
       "├─────────────────────────────────┼────────────────────────┼───────────────┤\n",
       "│ block1_conv2 (\u001b[38;5;33mConv2D\u001b[0m)           │ (\u001b[38;5;45mNone\u001b[0m, \u001b[38;5;34m224\u001b[0m, \u001b[38;5;34m224\u001b[0m, \u001b[38;5;34m64\u001b[0m)   │        \u001b[38;5;34m36,928\u001b[0m │\n",
       "├─────────────────────────────────┼────────────────────────┼───────────────┤\n",
       "│ block1_pool (\u001b[38;5;33mMaxPooling2D\u001b[0m)      │ (\u001b[38;5;45mNone\u001b[0m, \u001b[38;5;34m112\u001b[0m, \u001b[38;5;34m112\u001b[0m, \u001b[38;5;34m64\u001b[0m)   │             \u001b[38;5;34m0\u001b[0m │\n",
       "├─────────────────────────────────┼────────────────────────┼───────────────┤\n",
       "│ block2_conv1 (\u001b[38;5;33mConv2D\u001b[0m)           │ (\u001b[38;5;45mNone\u001b[0m, \u001b[38;5;34m112\u001b[0m, \u001b[38;5;34m112\u001b[0m, \u001b[38;5;34m128\u001b[0m)  │        \u001b[38;5;34m73,856\u001b[0m │\n",
       "├─────────────────────────────────┼────────────────────────┼───────────────┤\n",
       "│ block2_conv2 (\u001b[38;5;33mConv2D\u001b[0m)           │ (\u001b[38;5;45mNone\u001b[0m, \u001b[38;5;34m112\u001b[0m, \u001b[38;5;34m112\u001b[0m, \u001b[38;5;34m128\u001b[0m)  │       \u001b[38;5;34m147,584\u001b[0m │\n",
       "├─────────────────────────────────┼────────────────────────┼───────────────┤\n",
       "│ block2_pool (\u001b[38;5;33mMaxPooling2D\u001b[0m)      │ (\u001b[38;5;45mNone\u001b[0m, \u001b[38;5;34m56\u001b[0m, \u001b[38;5;34m56\u001b[0m, \u001b[38;5;34m128\u001b[0m)    │             \u001b[38;5;34m0\u001b[0m │\n",
       "├─────────────────────────────────┼────────────────────────┼───────────────┤\n",
       "│ block3_conv1 (\u001b[38;5;33mConv2D\u001b[0m)           │ (\u001b[38;5;45mNone\u001b[0m, \u001b[38;5;34m56\u001b[0m, \u001b[38;5;34m56\u001b[0m, \u001b[38;5;34m256\u001b[0m)    │       \u001b[38;5;34m295,168\u001b[0m │\n",
       "├─────────────────────────────────┼────────────────────────┼───────────────┤\n",
       "│ block3_conv2 (\u001b[38;5;33mConv2D\u001b[0m)           │ (\u001b[38;5;45mNone\u001b[0m, \u001b[38;5;34m56\u001b[0m, \u001b[38;5;34m56\u001b[0m, \u001b[38;5;34m256\u001b[0m)    │       \u001b[38;5;34m590,080\u001b[0m │\n",
       "├─────────────────────────────────┼────────────────────────┼───────────────┤\n",
       "│ block3_conv3 (\u001b[38;5;33mConv2D\u001b[0m)           │ (\u001b[38;5;45mNone\u001b[0m, \u001b[38;5;34m56\u001b[0m, \u001b[38;5;34m56\u001b[0m, \u001b[38;5;34m256\u001b[0m)    │       \u001b[38;5;34m590,080\u001b[0m │\n",
       "├─────────────────────────────────┼────────────────────────┼───────────────┤\n",
       "│ block3_pool (\u001b[38;5;33mMaxPooling2D\u001b[0m)      │ (\u001b[38;5;45mNone\u001b[0m, \u001b[38;5;34m28\u001b[0m, \u001b[38;5;34m28\u001b[0m, \u001b[38;5;34m256\u001b[0m)    │             \u001b[38;5;34m0\u001b[0m │\n",
       "├─────────────────────────────────┼────────────────────────┼───────────────┤\n",
       "│ block4_conv1 (\u001b[38;5;33mConv2D\u001b[0m)           │ (\u001b[38;5;45mNone\u001b[0m, \u001b[38;5;34m28\u001b[0m, \u001b[38;5;34m28\u001b[0m, \u001b[38;5;34m512\u001b[0m)    │     \u001b[38;5;34m1,180,160\u001b[0m │\n",
       "├─────────────────────────────────┼────────────────────────┼───────────────┤\n",
       "│ block4_conv2 (\u001b[38;5;33mConv2D\u001b[0m)           │ (\u001b[38;5;45mNone\u001b[0m, \u001b[38;5;34m28\u001b[0m, \u001b[38;5;34m28\u001b[0m, \u001b[38;5;34m512\u001b[0m)    │     \u001b[38;5;34m2,359,808\u001b[0m │\n",
       "├─────────────────────────────────┼────────────────────────┼───────────────┤\n",
       "│ block4_conv3 (\u001b[38;5;33mConv2D\u001b[0m)           │ (\u001b[38;5;45mNone\u001b[0m, \u001b[38;5;34m28\u001b[0m, \u001b[38;5;34m28\u001b[0m, \u001b[38;5;34m512\u001b[0m)    │     \u001b[38;5;34m2,359,808\u001b[0m │\n",
       "├─────────────────────────────────┼────────────────────────┼───────────────┤\n",
       "│ block4_pool (\u001b[38;5;33mMaxPooling2D\u001b[0m)      │ (\u001b[38;5;45mNone\u001b[0m, \u001b[38;5;34m14\u001b[0m, \u001b[38;5;34m14\u001b[0m, \u001b[38;5;34m512\u001b[0m)    │             \u001b[38;5;34m0\u001b[0m │\n",
       "├─────────────────────────────────┼────────────────────────┼───────────────┤\n",
       "│ block5_conv1 (\u001b[38;5;33mConv2D\u001b[0m)           │ (\u001b[38;5;45mNone\u001b[0m, \u001b[38;5;34m14\u001b[0m, \u001b[38;5;34m14\u001b[0m, \u001b[38;5;34m512\u001b[0m)    │     \u001b[38;5;34m2,359,808\u001b[0m │\n",
       "├─────────────────────────────────┼────────────────────────┼───────────────┤\n",
       "│ block5_conv2 (\u001b[38;5;33mConv2D\u001b[0m)           │ (\u001b[38;5;45mNone\u001b[0m, \u001b[38;5;34m14\u001b[0m, \u001b[38;5;34m14\u001b[0m, \u001b[38;5;34m512\u001b[0m)    │     \u001b[38;5;34m2,359,808\u001b[0m │\n",
       "├─────────────────────────────────┼────────────────────────┼───────────────┤\n",
       "│ block5_conv3 (\u001b[38;5;33mConv2D\u001b[0m)           │ (\u001b[38;5;45mNone\u001b[0m, \u001b[38;5;34m14\u001b[0m, \u001b[38;5;34m14\u001b[0m, \u001b[38;5;34m512\u001b[0m)    │     \u001b[38;5;34m2,359,808\u001b[0m │\n",
       "├─────────────────────────────────┼────────────────────────┼───────────────┤\n",
       "│ block5_pool (\u001b[38;5;33mMaxPooling2D\u001b[0m)      │ (\u001b[38;5;45mNone\u001b[0m, \u001b[38;5;34m7\u001b[0m, \u001b[38;5;34m7\u001b[0m, \u001b[38;5;34m512\u001b[0m)      │             \u001b[38;5;34m0\u001b[0m │\n",
       "├─────────────────────────────────┼────────────────────────┼───────────────┤\n",
       "│ flatten (\u001b[38;5;33mFlatten\u001b[0m)               │ (\u001b[38;5;45mNone\u001b[0m, \u001b[38;5;34m25088\u001b[0m)          │             \u001b[38;5;34m0\u001b[0m │\n",
       "├─────────────────────────────────┼────────────────────────┼───────────────┤\n",
       "│ fc1 (\u001b[38;5;33mDense\u001b[0m)                     │ (\u001b[38;5;45mNone\u001b[0m, \u001b[38;5;34m4096\u001b[0m)           │   \u001b[38;5;34m102,764,544\u001b[0m │\n",
       "├─────────────────────────────────┼────────────────────────┼───────────────┤\n",
       "│ fc2 (\u001b[38;5;33mDense\u001b[0m)                     │ (\u001b[38;5;45mNone\u001b[0m, \u001b[38;5;34m4096\u001b[0m)           │    \u001b[38;5;34m16,781,312\u001b[0m │\n",
       "└─────────────────────────────────┴────────────────────────┴───────────────┘\n"
      ]
     },
     "metadata": {},
     "output_type": "display_data"
    },
    {
     "data": {
      "text/html": [
       "<pre style=\"white-space:pre;overflow-x:auto;line-height:normal;font-family:Menlo,'DejaVu Sans Mono',consolas,'Courier New',monospace\"><span style=\"font-weight: bold\"> Total params: </span><span style=\"color: #00af00; text-decoration-color: #00af00\">134,260,544</span> (512.16 MB)\n",
       "</pre>\n"
      ],
      "text/plain": [
       "\u001b[1m Total params: \u001b[0m\u001b[38;5;34m134,260,544\u001b[0m (512.16 MB)\n"
      ]
     },
     "metadata": {},
     "output_type": "display_data"
    },
    {
     "data": {
      "text/html": [
       "<pre style=\"white-space:pre;overflow-x:auto;line-height:normal;font-family:Menlo,'DejaVu Sans Mono',consolas,'Courier New',monospace\"><span style=\"font-weight: bold\"> Trainable params: </span><span style=\"color: #00af00; text-decoration-color: #00af00\">134,260,544</span> (512.16 MB)\n",
       "</pre>\n"
      ],
      "text/plain": [
       "\u001b[1m Trainable params: \u001b[0m\u001b[38;5;34m134,260,544\u001b[0m (512.16 MB)\n"
      ]
     },
     "metadata": {},
     "output_type": "display_data"
    },
    {
     "data": {
      "text/html": [
       "<pre style=\"white-space:pre;overflow-x:auto;line-height:normal;font-family:Menlo,'DejaVu Sans Mono',consolas,'Courier New',monospace\"><span style=\"font-weight: bold\"> Non-trainable params: </span><span style=\"color: #00af00; text-decoration-color: #00af00\">0</span> (0.00 B)\n",
       "</pre>\n"
      ],
      "text/plain": [
       "\u001b[1m Non-trainable params: \u001b[0m\u001b[38;5;34m0\u001b[0m (0.00 B)\n"
      ]
     },
     "metadata": {},
     "output_type": "display_data"
    },
    {
     "name": "stdout",
     "output_type": "stream",
     "text": [
      "None\n"
     ]
    }
   ],
   "source": [
    "# Load vgg16 Model\n",
    "model = VGG16()\n",
    "\n",
    "# restructure model\n",
    "model = Model(inputs = model.inputs , outputs = model.layers[-2].output)\n",
    "\n",
    "# Summerize\n",
    "print(model.summary())"
   ]
  },
  {
   "cell_type": "markdown",
   "id": "4bc455f4",
   "metadata": {
    "papermill": {
     "duration": 0.081753,
     "end_time": "2024-03-24T12:45:58.401703",
     "exception": false,
     "start_time": "2024-03-24T12:45:58.319950",
     "status": "completed"
    },
    "tags": []
   },
   "source": [
    "+ Fully connected layer of the VGG16 model is not needed, just the previous layers to extract feature results.\n",
    "\n",
    "+ By preference you may include more layers, but for quicker results avoid adding the unnecessary layers."
   ]
  },
  {
   "cell_type": "markdown",
   "id": "484d76c7",
   "metadata": {
    "papermill": {
     "duration": 0.08089,
     "end_time": "2024-03-24T12:45:58.563646",
     "exception": false,
     "start_time": "2024-03-24T12:45:58.482756",
     "status": "completed"
    },
    "tags": []
   },
   "source": [
    "# extract the image features\n",
    "Now we extract the image features and load the data for preprocess"
   ]
  },
  {
   "cell_type": "code",
   "execution_count": 14,
   "id": "f64252f4",
   "metadata": {
    "execution": {
     "iopub.execute_input": "2025-09-16T14:52:21.043232Z",
     "iopub.status.busy": "2025-09-16T14:52:21.043032Z",
     "iopub.status.idle": "2025-09-16T15:07:05.881626Z",
     "shell.execute_reply": "2025-09-16T15:07:05.880880Z",
     "shell.execute_reply.started": "2025-09-16T14:52:21.043217Z"
    },
    "papermill": {
     "duration": 456.906622,
     "end_time": "2024-03-24T12:53:35.551693",
     "exception": false,
     "start_time": "2024-03-24T12:45:58.645071",
     "status": "completed"
    },
    "tags": [],
    "trusted": true
   },
   "outputs": [
    {
     "data": {
      "application/vnd.jupyter.widget-view+json": {
       "model_id": "83279adb2274468a8e7460660182ebcc",
       "version_major": 2,
       "version_minor": 0
      },
      "text/plain": [
       "  0%|          | 0/8091 [00:00<?, ?it/s]"
      ]
     },
     "metadata": {},
     "output_type": "display_data"
    },
    {
     "name": "stderr",
     "output_type": "stream",
     "text": [
      "/usr/local/lib/python3.11/dist-packages/keras/src/models/functional.py:237: UserWarning: The structure of `inputs` doesn't match the expected structure.\n",
      "Expected: ['keras_tensor_23']\n",
      "Received: inputs=Tensor(shape=(1, 224, 224, 3))\n",
      "  warnings.warn(msg)\n"
     ]
    }
   ],
   "source": [
    "# extract features from image\n",
    "features = {}\n",
    "directory = os.path.join(BASE_DIR, 'Images')\n",
    "\n",
    "for img_name in tqdm(os.listdir(directory)):\n",
    "    # load the image from file\n",
    "    img_path = directory + '/' + img_name\n",
    "    image = load_img(img_path, target_size=(224, 224))\n",
    "    # convert image pixels to numpy array\n",
    "    image = img_to_array(image)\n",
    "    # reshape data for model\n",
    "    image = image.reshape((1, image.shape[0], image.shape[1], image.shape[2]))\n",
    "    # preprocess image for vgg\n",
    "    image = preprocess_input(image)\n",
    "    # extract features\n",
    "    feature = model.predict(image, verbose=0)\n",
    "    # get image ID\n",
    "    image_id = img_name.split('.')[0]\n",
    "    # store feature\n",
    "    features[image_id] = feature"
   ]
  },
  {
   "cell_type": "markdown",
   "id": "8a405b1a",
   "metadata": {
    "papermill": {
     "duration": 0.08242,
     "end_time": "2024-03-24T12:53:35.715599",
     "exception": false,
     "start_time": "2024-03-24T12:53:35.633179",
     "status": "completed"
    },
    "tags": []
   },
   "source": [
    "Dictionary 'features' is created and will be loaded with the extracted features of image data\n",
    "\n",
    "**load_img(img_path, target_size=(224, 224))** - custom dimension to resize the image when loaded to the array\n",
    "\n",
    "**image.reshape((1, image.shape[0], image.shape[1], image.shape[2]))** - reshaping the image data to preprocess in a RGB type image.\n",
    "\n",
    "**model.predict(image, verbose=0)** - extraction of features from the image\n",
    "\n",
    "**img_name.split('.')[0]** - split of the image name from the extension to load only the image name."
   ]
  },
  {
   "cell_type": "code",
   "execution_count": 15,
   "id": "d515c241",
   "metadata": {
    "execution": {
     "iopub.execute_input": "2025-09-16T15:07:05.884472Z",
     "iopub.status.busy": "2025-09-16T15:07:05.884212Z",
     "iopub.status.idle": "2025-09-16T15:07:06.313858Z",
     "shell.execute_reply": "2025-09-16T15:07:06.312987Z",
     "shell.execute_reply.started": "2025-09-16T15:07:05.884454Z"
    },
    "papermill": {
     "duration": 0.433736,
     "end_time": "2024-03-24T12:53:36.231178",
     "exception": false,
     "start_time": "2024-03-24T12:53:35.797442",
     "status": "completed"
    },
    "tags": [],
    "trusted": true
   },
   "outputs": [],
   "source": [
    "# store features in pickle\n",
    "pickle.dump(features, open(os.path.join(WORKING_DIR, 'features.pkl'), 'wb'))"
   ]
  },
  {
   "cell_type": "markdown",
   "id": "b8075d28",
   "metadata": {
    "papermill": {
     "duration": 0.082176,
     "end_time": "2024-03-24T12:53:36.395340",
     "exception": false,
     "start_time": "2024-03-24T12:53:36.313164",
     "status": "completed"
    },
    "tags": []
   },
   "source": [
    "Extracted features are not stored in the disk, so re-extraction of features can extend running time\n",
    "\n",
    "Dumps and store your dictionary in a pickle for reloading it to save time"
   ]
  },
  {
   "cell_type": "code",
   "execution_count": 16,
   "id": "fe2e6704",
   "metadata": {
    "execution": {
     "iopub.execute_input": "2025-09-16T15:07:06.315632Z",
     "iopub.status.busy": "2025-09-16T15:07:06.314800Z",
     "iopub.status.idle": "2025-09-16T15:07:06.489488Z",
     "shell.execute_reply": "2025-09-16T15:07:06.488709Z",
     "shell.execute_reply.started": "2025-09-16T15:07:06.315596Z"
    },
    "papermill": {
     "duration": 0.259011,
     "end_time": "2024-03-24T12:53:36.735665",
     "exception": false,
     "start_time": "2024-03-24T12:53:36.476654",
     "status": "completed"
    },
    "tags": [],
    "trusted": true
   },
   "outputs": [],
   "source": [
    "# load features from pickle\n",
    "with open(os.path.join(WORKING_DIR, 'features.pkl'), 'rb') as f:\n",
    "    features = pickle.load(f)"
   ]
  },
  {
   "cell_type": "markdown",
   "id": "634556a3",
   "metadata": {
    "papermill": {
     "duration": 0.080785,
     "end_time": "2024-03-24T12:53:36.898372",
     "exception": false,
     "start_time": "2024-03-24T12:53:36.817587",
     "status": "completed"
    },
    "tags": []
   },
   "source": [
    "Load all your stored feature data to your project for quicker runtime "
   ]
  },
  {
   "cell_type": "markdown",
   "id": "dc8fb69f",
   "metadata": {
    "papermill": {
     "duration": 0.080425,
     "end_time": "2024-03-24T12:53:37.060042",
     "exception": false,
     "start_time": "2024-03-24T12:53:36.979617",
     "status": "completed"
    },
    "tags": []
   },
   "source": [
    "## Load the Captions Data\n",
    "\n",
    "Let us store the captions data from the text file"
   ]
  },
  {
   "cell_type": "code",
   "execution_count": 17,
   "id": "54f7b1ab",
   "metadata": {
    "execution": {
     "iopub.execute_input": "2025-09-16T15:07:06.491707Z",
     "iopub.status.busy": "2025-09-16T15:07:06.491456Z",
     "iopub.status.idle": "2025-09-16T15:07:06.521091Z",
     "shell.execute_reply": "2025-09-16T15:07:06.520474Z",
     "shell.execute_reply.started": "2025-09-16T15:07:06.491689Z"
    },
    "papermill": {
     "duration": 0.152901,
     "end_time": "2024-03-24T12:53:37.294245",
     "exception": false,
     "start_time": "2024-03-24T12:53:37.141344",
     "status": "completed"
    },
    "tags": [],
    "trusted": true
   },
   "outputs": [],
   "source": [
    "with open(os.path.join(BASE_DIR, 'captions.txt'), 'r') as f:\n",
    "    next(f)\n",
    "    captions_doc = f.read()"
   ]
  },
  {
   "cell_type": "markdown",
   "id": "02a6c126",
   "metadata": {
    "papermill": {
     "duration": 0.080816,
     "end_time": "2024-03-24T12:53:37.458963",
     "exception": false,
     "start_time": "2024-03-24T12:53:37.378147",
     "status": "completed"
    },
    "tags": []
   },
   "source": [
    "### Now we split and append the captions data with the image"
   ]
  },
  {
   "cell_type": "code",
   "execution_count": 18,
   "id": "28acaee4",
   "metadata": {
    "execution": {
     "iopub.execute_input": "2025-09-16T15:07:06.521985Z",
     "iopub.status.busy": "2025-09-16T15:07:06.521753Z",
     "iopub.status.idle": "2025-09-16T15:07:06.608386Z",
     "shell.execute_reply": "2025-09-16T15:07:06.607524Z",
     "shell.execute_reply.started": "2025-09-16T15:07:06.521968Z"
    },
    "papermill": {
     "duration": 0.238712,
     "end_time": "2024-03-24T12:53:37.779053",
     "exception": false,
     "start_time": "2024-03-24T12:53:37.540341",
     "status": "completed"
    },
    "tags": [],
    "trusted": true
   },
   "outputs": [
    {
     "data": {
      "application/vnd.jupyter.widget-view+json": {
       "model_id": "9655adb08962400c85d68cb6cfb8443e",
       "version_major": 2,
       "version_minor": 0
      },
      "text/plain": [
       "  0%|          | 0/40456 [00:00<?, ?it/s]"
      ]
     },
     "metadata": {},
     "output_type": "display_data"
    }
   ],
   "source": [
    "# create mapping of image to captions\n",
    "mapping = {}\n",
    "# process lines\n",
    "for line in tqdm(captions_doc.split('\\n')):\n",
    "    # split the line by comma(,)\n",
    "    tokens = line.split(',')\n",
    "    if len(line) < 2:\n",
    "        continue\n",
    "    image_id, caption = tokens[0], tokens[1:]\n",
    "    # remove extension from image ID\n",
    "    image_id = image_id.split('.')[0]\n",
    "    # convert caption list to string\n",
    "    caption = \" \".join(caption)\n",
    "    # create list if needed\n",
    "    if image_id not in mapping:\n",
    "        mapping[image_id] = []\n",
    "    # store the caption\n",
    "    mapping[image_id].append(caption)"
   ]
  },
  {
   "cell_type": "markdown",
   "id": "c0498797",
   "metadata": {
    "papermill": {
     "duration": 0.082117,
     "end_time": "2024-03-24T12:53:37.944184",
     "exception": false,
     "start_time": "2024-03-24T12:53:37.862067",
     "status": "completed"
    },
    "tags": []
   },
   "source": [
    "+ Dictionary 'mapping' is created with key as image_id and values as the corresponding caption text\n",
    "\n",
    "+ Same image may have multiple captions, **if image_id not in mapping: mapping[image_id] = []** creates a list for appending captions to the corresponding image"
   ]
  },
  {
   "cell_type": "markdown",
   "id": "1900d38c",
   "metadata": {
    "papermill": {
     "duration": 0.082126,
     "end_time": "2024-03-24T12:53:38.108330",
     "exception": false,
     "start_time": "2024-03-24T12:53:38.026204",
     "status": "completed"
    },
    "tags": []
   },
   "source": [
    "#### Now let us see the no. of images loaded"
   ]
  },
  {
   "cell_type": "code",
   "execution_count": 19,
   "id": "5458fa9f",
   "metadata": {
    "execution": {
     "iopub.execute_input": "2025-09-16T15:07:06.609762Z",
     "iopub.status.busy": "2025-09-16T15:07:06.609459Z",
     "iopub.status.idle": "2025-09-16T15:07:06.614793Z",
     "shell.execute_reply": "2025-09-16T15:07:06.614028Z",
     "shell.execute_reply.started": "2025-09-16T15:07:06.609735Z"
    },
    "papermill": {
     "duration": 0.092574,
     "end_time": "2024-03-24T12:53:38.282992",
     "exception": false,
     "start_time": "2024-03-24T12:53:38.190418",
     "status": "completed"
    },
    "tags": [],
    "trusted": true
   },
   "outputs": [
    {
     "data": {
      "text/plain": [
       "8091"
      ]
     },
     "execution_count": 19,
     "metadata": {},
     "output_type": "execute_result"
    }
   ],
   "source": [
    "len(mapping)"
   ]
  },
  {
   "cell_type": "markdown",
   "id": "86c20a26",
   "metadata": {
    "papermill": {
     "duration": 0.082813,
     "end_time": "2024-03-24T12:53:38.449686",
     "exception": false,
     "start_time": "2024-03-24T12:53:38.366873",
     "status": "completed"
    },
    "tags": []
   },
   "source": [
    "# Preprocess Text Data"
   ]
  },
  {
   "cell_type": "code",
   "execution_count": 34,
   "id": "fe3dfdfb",
   "metadata": {
    "execution": {
     "iopub.execute_input": "2025-09-16T15:09:40.473951Z",
     "iopub.status.busy": "2025-09-16T15:09:40.473622Z",
     "iopub.status.idle": "2025-09-16T15:09:40.479882Z",
     "shell.execute_reply": "2025-09-16T15:09:40.478757Z",
     "shell.execute_reply.started": "2025-09-16T15:09:40.473929Z"
    },
    "papermill": {
     "duration": 0.091664,
     "end_time": "2024-03-24T12:53:38.623757",
     "exception": false,
     "start_time": "2024-03-24T12:53:38.532093",
     "status": "completed"
    },
    "tags": [],
    "trusted": true
   },
   "outputs": [],
   "source": [
    "def clean(mapping):\n",
    "    for key, captions in mapping.items():\n",
    "        for i in range(len(captions)):\n",
    "            # take one caption at a time\n",
    "            caption = captions[i]\n",
    "            # preprocessing steps\n",
    "            # convert to lowercase\n",
    "            caption = caption.lower()\n",
    "            # delete digits, special chars, etc., \n",
    "            caption = caption.replace('[^A-Za-z]', '')\n",
    "            # delete additional spaces\n",
    "            caption = caption.replace('\\s+', ' ')\n",
    "            # add start and end tags to the caption\n",
    "            caption = 'startseq ' + \" \".join([word for word in caption.split() if len(word)>1]) + ' endseq'\n",
    "            captions[i] = caption"
   ]
  },
  {
   "cell_type": "markdown",
   "id": "e9759be4",
   "metadata": {
    "papermill": {
     "duration": 0.082089,
     "end_time": "2024-03-24T12:53:38.788838",
     "exception": false,
     "start_time": "2024-03-24T12:53:38.706749",
     "status": "completed"
    },
    "tags": []
   },
   "source": [
    "Defined to clean and convert the text for quicker process and better results"
   ]
  },
  {
   "cell_type": "markdown",
   "id": "e4babc16",
   "metadata": {
    "papermill": {
     "duration": 0.082838,
     "end_time": "2024-03-24T12:53:38.955024",
     "exception": false,
     "start_time": "2024-03-24T12:53:38.872186",
     "status": "completed"
    },
    "tags": []
   },
   "source": [
    "Let us visualize the text **before** and **after** cleaning"
   ]
  },
  {
   "cell_type": "code",
   "execution_count": 35,
   "id": "941adcfc",
   "metadata": {
    "execution": {
     "iopub.execute_input": "2025-09-16T15:09:42.294108Z",
     "iopub.status.busy": "2025-09-16T15:09:42.293792Z",
     "iopub.status.idle": "2025-09-16T15:09:42.299399Z",
     "shell.execute_reply": "2025-09-16T15:09:42.298589Z",
     "shell.execute_reply.started": "2025-09-16T15:09:42.294089Z"
    },
    "papermill": {
     "duration": 0.0907,
     "end_time": "2024-03-24T12:53:39.128308",
     "exception": false,
     "start_time": "2024-03-24T12:53:39.037608",
     "status": "completed"
    },
    "tags": [],
    "trusted": true
   },
   "outputs": [
    {
     "data": {
      "text/plain": [
       "['startseq child in pink dress is climbing up set of stairs in an entry way endseq',\n",
       " 'startseq girl going into wooden building endseq',\n",
       " 'startseq little girl climbing into wooden playhouse endseq',\n",
       " 'startseq little girl climbing the stairs to her playhouse endseq',\n",
       " 'startseq little girl in pink dress going into wooden cabin endseq']"
      ]
     },
     "execution_count": 35,
     "metadata": {},
     "output_type": "execute_result"
    }
   ],
   "source": [
    "# before preprocess of text\n",
    "mapping['1000268201_693b08cb0e']"
   ]
  },
  {
   "cell_type": "code",
   "execution_count": 36,
   "id": "731b3baf",
   "metadata": {
    "execution": {
     "iopub.execute_input": "2025-09-16T15:09:42.774110Z",
     "iopub.status.busy": "2025-09-16T15:09:42.773528Z",
     "iopub.status.idle": "2025-09-16T15:09:42.866707Z",
     "shell.execute_reply": "2025-09-16T15:09:42.866111Z",
     "shell.execute_reply.started": "2025-09-16T15:09:42.774085Z"
    },
    "papermill": {
     "duration": 0.251875,
     "end_time": "2024-03-24T12:53:39.465530",
     "exception": false,
     "start_time": "2024-03-24T12:53:39.213655",
     "status": "completed"
    },
    "tags": [],
    "trusted": true
   },
   "outputs": [],
   "source": [
    "# preprocess the text\n",
    "clean(mapping)"
   ]
  },
  {
   "cell_type": "code",
   "execution_count": 37,
   "id": "c7f2419d",
   "metadata": {
    "execution": {
     "iopub.execute_input": "2025-09-16T15:09:43.223993Z",
     "iopub.status.busy": "2025-09-16T15:09:43.223391Z",
     "iopub.status.idle": "2025-09-16T15:09:43.228918Z",
     "shell.execute_reply": "2025-09-16T15:09:43.228059Z",
     "shell.execute_reply.started": "2025-09-16T15:09:43.223970Z"
    },
    "papermill": {
     "duration": 0.090544,
     "end_time": "2024-03-24T12:53:39.639539",
     "exception": false,
     "start_time": "2024-03-24T12:53:39.548995",
     "status": "completed"
    },
    "tags": [],
    "trusted": true
   },
   "outputs": [
    {
     "data": {
      "text/plain": [
       "['startseq startseq child in pink dress is climbing up set of stairs in an entry way endseq endseq',\n",
       " 'startseq startseq girl going into wooden building endseq endseq',\n",
       " 'startseq startseq little girl climbing into wooden playhouse endseq endseq',\n",
       " 'startseq startseq little girl climbing the stairs to her playhouse endseq endseq',\n",
       " 'startseq startseq little girl in pink dress going into wooden cabin endseq endseq']"
      ]
     },
     "execution_count": 37,
     "metadata": {},
     "output_type": "execute_result"
    }
   ],
   "source": [
    "# after preprocess of text\n",
    "mapping['1000268201_693b08cb0e']"
   ]
  },
  {
   "cell_type": "markdown",
   "id": "62969476",
   "metadata": {
    "papermill": {
     "duration": 0.082547,
     "end_time": "2024-03-24T12:53:39.805271",
     "exception": false,
     "start_time": "2024-03-24T12:53:39.722724",
     "status": "completed"
    },
    "tags": []
   },
   "source": [
    "#### Next we will store the preprocessed captions into a list"
   ]
  },
  {
   "cell_type": "code",
   "execution_count": 38,
   "id": "830deb23",
   "metadata": {
    "execution": {
     "iopub.execute_input": "2025-09-16T15:09:43.819368Z",
     "iopub.status.busy": "2025-09-16T15:09:43.819070Z",
     "iopub.status.idle": "2025-09-16T15:09:43.833524Z",
     "shell.execute_reply": "2025-09-16T15:09:43.832879Z",
     "shell.execute_reply.started": "2025-09-16T15:09:43.819347Z"
    },
    "papermill": {
     "duration": 0.101213,
     "end_time": "2024-03-24T12:53:39.989802",
     "exception": false,
     "start_time": "2024-03-24T12:53:39.888589",
     "status": "completed"
    },
    "tags": [],
    "trusted": true
   },
   "outputs": [],
   "source": [
    "all_captions = []\n",
    "for key in mapping:\n",
    "    for caption in mapping[key]:\n",
    "        all_captions.append(caption)"
   ]
  },
  {
   "cell_type": "code",
   "execution_count": 39,
   "id": "ee6142a8",
   "metadata": {
    "execution": {
     "iopub.execute_input": "2025-09-16T15:09:44.074217Z",
     "iopub.status.busy": "2025-09-16T15:09:44.073720Z",
     "iopub.status.idle": "2025-09-16T15:09:44.079352Z",
     "shell.execute_reply": "2025-09-16T15:09:44.078479Z",
     "shell.execute_reply.started": "2025-09-16T15:09:44.074192Z"
    },
    "papermill": {
     "duration": 0.091705,
     "end_time": "2024-03-24T12:53:40.166271",
     "exception": false,
     "start_time": "2024-03-24T12:53:40.074566",
     "status": "completed"
    },
    "tags": [],
    "trusted": true
   },
   "outputs": [
    {
     "data": {
      "text/plain": [
       "40455"
      ]
     },
     "execution_count": 39,
     "metadata": {},
     "output_type": "execute_result"
    }
   ],
   "source": [
    "len(all_captions)"
   ]
  },
  {
   "cell_type": "markdown",
   "id": "0945ee59",
   "metadata": {
    "papermill": {
     "duration": 0.083347,
     "end_time": "2024-03-24T12:53:40.334394",
     "exception": false,
     "start_time": "2024-03-24T12:53:40.251047",
     "status": "completed"
    },
    "tags": []
   },
   "source": [
    "No. of unique captions stored"
   ]
  },
  {
   "cell_type": "markdown",
   "id": "13cbbb43",
   "metadata": {
    "papermill": {
     "duration": 0.084755,
     "end_time": "2024-03-24T12:53:40.505705",
     "exception": false,
     "start_time": "2024-03-24T12:53:40.420950",
     "status": "completed"
    },
    "tags": []
   },
   "source": [
    "# 10 Captions\n",
    "Let us see the first ten captions"
   ]
  },
  {
   "cell_type": "code",
   "execution_count": 40,
   "id": "38400208",
   "metadata": {
    "execution": {
     "iopub.execute_input": "2025-09-16T15:09:45.374236Z",
     "iopub.status.busy": "2025-09-16T15:09:45.373925Z",
     "iopub.status.idle": "2025-09-16T15:09:45.379577Z",
     "shell.execute_reply": "2025-09-16T15:09:45.378805Z",
     "shell.execute_reply.started": "2025-09-16T15:09:45.374202Z"
    },
    "papermill": {
     "duration": 0.093102,
     "end_time": "2024-03-24T12:53:40.683173",
     "exception": false,
     "start_time": "2024-03-24T12:53:40.590071",
     "status": "completed"
    },
    "tags": [],
    "trusted": true
   },
   "outputs": [
    {
     "data": {
      "text/plain": [
       "['startseq startseq child in pink dress is climbing up set of stairs in an entry way endseq endseq',\n",
       " 'startseq startseq girl going into wooden building endseq endseq',\n",
       " 'startseq startseq little girl climbing into wooden playhouse endseq endseq',\n",
       " 'startseq startseq little girl climbing the stairs to her playhouse endseq endseq',\n",
       " 'startseq startseq little girl in pink dress going into wooden cabin endseq endseq',\n",
       " 'startseq startseq black dog and spotted dog are fighting endseq endseq',\n",
       " 'startseq startseq black dog and tri-colored dog playing with each other on the road endseq endseq',\n",
       " 'startseq startseq black dog and white dog with brown spots are staring at each other in the street endseq endseq',\n",
       " 'startseq startseq two dogs of different breeds looking at each other on the road endseq endseq',\n",
       " 'startseq startseq two dogs on pavement moving toward each other endseq endseq']"
      ]
     },
     "execution_count": 40,
     "metadata": {},
     "output_type": "execute_result"
    }
   ],
   "source": [
    "all_captions[:10]"
   ]
  },
  {
   "cell_type": "markdown",
   "id": "e26bc08b",
   "metadata": {
    "papermill": {
     "duration": 0.083981,
     "end_time": "2024-03-24T12:53:40.851070",
     "exception": false,
     "start_time": "2024-03-24T12:53:40.767089",
     "status": "completed"
    },
    "tags": []
   },
   "source": [
    "# Processing of Text Data\n",
    "Now we start processing the text data"
   ]
  },
  {
   "cell_type": "code",
   "execution_count": 41,
   "id": "412dd7dd",
   "metadata": {
    "execution": {
     "iopub.execute_input": "2025-09-16T15:09:46.244147Z",
     "iopub.status.busy": "2025-09-16T15:09:46.243503Z",
     "iopub.status.idle": "2025-09-16T15:09:46.746207Z",
     "shell.execute_reply": "2025-09-16T15:09:46.745555Z",
     "shell.execute_reply.started": "2025-09-16T15:09:46.244123Z"
    },
    "papermill": {
     "duration": 0.817811,
     "end_time": "2024-03-24T12:53:41.752912",
     "exception": false,
     "start_time": "2024-03-24T12:53:40.935101",
     "status": "completed"
    },
    "tags": [],
    "trusted": true
   },
   "outputs": [],
   "source": [
    "# tokenize the text\n",
    "tokenizer = Tokenizer()\n",
    "tokenizer.fit_on_texts(all_captions)\n",
    "vocab_size = len(tokenizer.word_index) + 1"
   ]
  },
  {
   "cell_type": "code",
   "execution_count": 42,
   "id": "f37a21f3",
   "metadata": {
    "execution": {
     "iopub.execute_input": "2025-09-16T15:09:46.747496Z",
     "iopub.status.busy": "2025-09-16T15:09:46.747202Z",
     "iopub.status.idle": "2025-09-16T15:09:46.752790Z",
     "shell.execute_reply": "2025-09-16T15:09:46.752002Z",
     "shell.execute_reply.started": "2025-09-16T15:09:46.747473Z"
    },
    "papermill": {
     "duration": 0.092187,
     "end_time": "2024-03-24T12:53:41.929553",
     "exception": false,
     "start_time": "2024-03-24T12:53:41.837366",
     "status": "completed"
    },
    "tags": [],
    "trusted": true
   },
   "outputs": [
    {
     "data": {
      "text/plain": [
       "8485"
      ]
     },
     "execution_count": 42,
     "metadata": {},
     "output_type": "execute_result"
    }
   ],
   "source": [
    "vocab_size"
   ]
  },
  {
   "cell_type": "markdown",
   "id": "72888845",
   "metadata": {
    "papermill": {
     "duration": 0.083973,
     "end_time": "2024-03-24T12:53:42.097914",
     "exception": false,
     "start_time": "2024-03-24T12:53:42.013941",
     "status": "completed"
    },
    "tags": []
   },
   "source": [
    "No. of unique words"
   ]
  },
  {
   "cell_type": "code",
   "execution_count": 43,
   "id": "909d181b",
   "metadata": {
    "execution": {
     "iopub.execute_input": "2025-09-16T15:09:47.614056Z",
     "iopub.status.busy": "2025-09-16T15:09:47.613365Z",
     "iopub.status.idle": "2025-09-16T15:09:47.647638Z",
     "shell.execute_reply": "2025-09-16T15:09:47.646890Z",
     "shell.execute_reply.started": "2025-09-16T15:09:47.614030Z"
    },
    "papermill": {
     "duration": 0.126775,
     "end_time": "2024-03-24T12:53:42.309233",
     "exception": false,
     "start_time": "2024-03-24T12:53:42.182458",
     "status": "completed"
    },
    "tags": [],
    "trusted": true
   },
   "outputs": [
    {
     "data": {
      "text/plain": [
       "37"
      ]
     },
     "execution_count": 43,
     "metadata": {},
     "output_type": "execute_result"
    }
   ],
   "source": [
    "# get maximum length of the caption available\n",
    "max_length = max(len(caption.split()) for caption in all_captions)\n",
    "max_length"
   ]
  },
  {
   "cell_type": "markdown",
   "id": "dea0966a",
   "metadata": {
    "papermill": {
     "duration": 0.08434,
     "end_time": "2024-03-24T12:53:42.480286",
     "exception": false,
     "start_time": "2024-03-24T12:53:42.395946",
     "status": "completed"
    },
    "tags": []
   },
   "source": [
    "+ Finding the maximum length of the captions, used for reference for the padding sequence."
   ]
  },
  {
   "cell_type": "markdown",
   "id": "6ce174c8",
   "metadata": {
    "papermill": {
     "duration": 0.084157,
     "end_time": "2024-03-24T12:53:42.649278",
     "exception": false,
     "start_time": "2024-03-24T12:53:42.565121",
     "status": "completed"
    },
    "tags": []
   },
   "source": [
    "# Train Test Split"
   ]
  },
  {
   "cell_type": "markdown",
   "id": "1832f033",
   "metadata": {
    "papermill": {
     "duration": 0.096079,
     "end_time": "2024-03-24T12:53:42.832696",
     "exception": false,
     "start_time": "2024-03-24T12:53:42.736617",
     "status": "completed"
    },
    "tags": []
   },
   "source": [
    "#### After preprocessing the data now we will train, test and split"
   ]
  },
  {
   "cell_type": "code",
   "execution_count": 44,
   "id": "031192c8",
   "metadata": {
    "execution": {
     "iopub.execute_input": "2025-09-16T15:09:49.314275Z",
     "iopub.status.busy": "2025-09-16T15:09:49.313729Z",
     "iopub.status.idle": "2025-09-16T15:09:49.319060Z",
     "shell.execute_reply": "2025-09-16T15:09:49.318120Z",
     "shell.execute_reply.started": "2025-09-16T15:09:49.314253Z"
    },
    "papermill": {
     "duration": 0.092871,
     "end_time": "2024-03-24T12:53:43.013693",
     "exception": false,
     "start_time": "2024-03-24T12:53:42.920822",
     "status": "completed"
    },
    "tags": [],
    "trusted": true
   },
   "outputs": [],
   "source": [
    "image_ids = list(mapping.keys())\n",
    "split = int(len(image_ids) * 0.90)\n",
    "train = image_ids[:split]\n",
    "test = image_ids[split:]"
   ]
  },
  {
   "cell_type": "markdown",
   "id": "4a55b7d5",
   "metadata": {
    "papermill": {
     "duration": 0.084788,
     "end_time": "2024-03-24T12:53:43.183100",
     "exception": false,
     "start_time": "2024-03-24T12:53:43.098312",
     "status": "completed"
    },
    "tags": []
   },
   "source": [
    "**Now we will define a batch and include the padding sequence**"
   ]
  },
  {
   "cell_type": "code",
   "execution_count": 58,
   "id": "60e8a5c8",
   "metadata": {
    "execution": {
     "iopub.execute_input": "2025-09-16T15:19:33.821318Z",
     "iopub.status.busy": "2025-09-16T15:19:33.820478Z",
     "iopub.status.idle": "2025-09-16T15:19:33.828101Z",
     "shell.execute_reply": "2025-09-16T15:19:33.827231Z",
     "shell.execute_reply.started": "2025-09-16T15:19:33.821293Z"
    },
    "papermill": {
     "duration": 0.098024,
     "end_time": "2024-03-24T12:53:43.366122",
     "exception": false,
     "start_time": "2024-03-24T12:53:43.268098",
     "status": "completed"
    },
    "tags": [],
    "trusted": true
   },
   "outputs": [],
   "source": [
    "def data_generator(data_keys, mapping, features, tokenizer, max_length, vocab_size, batch_size):\n",
    "    X1, X2, y = list(), list(), list()\n",
    "    n = 0\n",
    "    while 1:\n",
    "        for key in data_keys:\n",
    "            n += 1\n",
    "            captions = mapping[key]\n",
    "            # process each caption\n",
    "            for caption in captions:\n",
    "                # encode the sequence\n",
    "                seq = tokenizer.texts_to_sequences([caption])[0]\n",
    "                # split the sequence into X, y pairs\n",
    "                for i in range(1, len(seq)):\n",
    "                    # split into input and output pairs\n",
    "                    in_seq, out_seq = seq[:i], seq[i]\n",
    "                    # pad input sequence\n",
    "                    in_seq = pad_sequences([in_seq], maxlen=max_length, padding='post')[0]\n",
    "                    # encode output sequence\n",
    "                    out_seq = to_categorical([out_seq], num_classes=vocab_size)[0]\n",
    "                    # store the sequences\n",
    "                    X1.append(features[key][0])\n",
    "                    X2.append(in_seq)\n",
    "                    y.append(out_seq)\n",
    "            if n == batch_size:\n",
    "                X1, X2, y = np.array(X1), np.array(X2), np.array(y)\n",
    "                yield (X1, X2), y   # ✅ tuple instead of list\n",
    "                X1, X2, y = list(), list(), list()\n",
    "                n = 0\n"
   ]
  },
  {
   "cell_type": "markdown",
   "id": "cce4fa54",
   "metadata": {
    "papermill": {
     "duration": 0.08487,
     "end_time": "2024-03-24T12:53:43.537331",
     "exception": false,
     "start_time": "2024-03-24T12:53:43.452461",
     "status": "completed"
    },
    "tags": []
   },
   "source": [
    "Padding sequence normalizes the size of all captions to the max size filling them with zeros for better results."
   ]
  },
  {
   "cell_type": "markdown",
   "id": "5f38a2ae",
   "metadata": {
    "papermill": {
     "duration": 0.084481,
     "end_time": "2024-03-24T12:53:43.706891",
     "exception": false,
     "start_time": "2024-03-24T12:53:43.622410",
     "status": "completed"
    },
    "tags": []
   },
   "source": [
    "# Model Creation"
   ]
  },
  {
   "cell_type": "code",
   "execution_count": 59,
   "id": "297c234d",
   "metadata": {
    "execution": {
     "iopub.execute_input": "2025-09-16T15:19:41.275911Z",
     "iopub.status.busy": "2025-09-16T15:19:41.275275Z",
     "iopub.status.idle": "2025-09-16T15:19:41.903663Z",
     "shell.execute_reply": "2025-09-16T15:19:41.902735Z",
     "shell.execute_reply.started": "2025-09-16T15:19:41.275876Z"
    },
    "papermill": {
     "duration": 2.180891,
     "end_time": "2024-03-24T12:53:45.972648",
     "exception": false,
     "start_time": "2024-03-24T12:53:43.791757",
     "status": "completed"
    },
    "tags": [],
    "trusted": true
   },
   "outputs": [
    {
     "data": {
      "image/png": "[encoded data removed]",
      "text/plain": [
       "<IPython.core.display.Image object>"
      ]
     },
     "execution_count": 59,
     "metadata": {},
     "output_type": "execute_result"
    }
   ],
   "source": [
    "# encoder model\n",
    "# image feature layers\n",
    "inputs1 = Input(shape=(4096,))\n",
    "fe1 = Dropout(0.4)(inputs1)\n",
    "fe2 = Dense(256, activation='relu')(fe1)\n",
    "# sequence feature layers\n",
    "inputs2 = Input(shape=(max_length,))\n",
    "se1 = Embedding(vocab_size, 256, mask_zero=True)(inputs2)\n",
    "se2 = Dropout(0.4)(se1)\n",
    "se3 = LSTM(256)(se2)\n",
    "\n",
    "# decoder model\n",
    "decoder1 = add([fe2, se3])\n",
    "decoder2 = Dense(256, activation='relu')(decoder1)\n",
    "outputs = Dense(vocab_size, activation='softmax')(decoder2)\n",
    "\n",
    "model = Model(inputs=[inputs1, inputs2], outputs=outputs)\n",
    "model.compile(loss='categorical_crossentropy', optimizer='adam')\n",
    "\n",
    "# plot the model\n",
    "plot_model(model, show_shapes=True)"
   ]
  },
  {
   "cell_type": "markdown",
   "id": "de90e7dc",
   "metadata": {
    "papermill": {
     "duration": 0.086944,
     "end_time": "2024-03-24T12:53:46.148108",
     "exception": false,
     "start_time": "2024-03-24T12:53:46.061164",
     "status": "completed"
    },
    "tags": []
   },
   "source": [
    "+ **shape=(4096,)** - output length of the features from the VGG model\n",
    "\n",
    "+ **Dense** - single dimension linear layer array\n",
    "\n",
    "+ **Dropout()** - used to add regularization to the data, avoiding over fitting & dropping out a fraction of the data from the layers\n",
    "\n",
    "+ **model.compile()** - compilation of the model\n",
    "\n",
    "+ **loss=’sparse_categorical_crossentropy’** - loss function for category outputs\n",
    "\n",
    "+ **optimizer=’adam’** - automatically adjust the learning rate for the model over the no. of epochs\n",
    "\n",
    "+ Model plot shows the concatenation of the inputs and outputs into a single layer\n",
    "\n",
    "+ Feature extraction of image was already done using VGG, no CNN model was needed in this step."
   ]
  },
  {
   "cell_type": "markdown",
   "id": "bae44ee1",
   "metadata": {
    "papermill": {
     "duration": 0.086742,
     "end_time": "2024-03-24T12:53:46.323242",
     "exception": false,
     "start_time": "2024-03-24T12:53:46.236500",
     "status": "completed"
    },
    "tags": []
   },
   "source": [
    "# Train Model\n",
    "Now let us train the model"
   ]
  },
  {
   "cell_type": "code",
   "execution_count": null,
   "id": "5d8b293d",
   "metadata": {
    "execution": {
     "iopub.execute_input": "2025-09-16T15:19:49.596364Z",
     "iopub.status.busy": "2025-09-16T15:19:49.596046Z"
    },
    "papermill": {
     "duration": 1254.465205,
     "end_time": "2024-03-24T13:14:40.877164",
     "exception": false,
     "start_time": "2024-03-24T12:53:46.411959",
     "status": "completed"
    },
    "tags": [],
    "trusted": true
   },
   "outputs": [
    {
     "name": "stdout",
     "output_type": "stream",
     "text": [
      "\u001b[1m227/227\u001b[0m \u001b[32m━━━━━━━━━━━━━━━━━━━━\u001b[0m\u001b[37m\u001b[0m \u001b[1m69s\u001b[0m 293ms/step - loss: 5.1334\n",
      "\u001b[1m227/227\u001b[0m \u001b[32m━━━━━━━━━━━━━━━━━━━━\u001b[0m\u001b[37m\u001b[0m \u001b[1m68s\u001b[0m 299ms/step - loss: 3.4422\n",
      "\u001b[1m227/227\u001b[0m \u001b[32m━━━━━━━━━━━━━━━━━━━━\u001b[0m\u001b[37m\u001b[0m \u001b[1m66s\u001b[0m 292ms/step - loss: 3.0417\n",
      "\u001b[1m227/227\u001b[0m \u001b[32m━━━━━━━━━━━━━━━━━━━━\u001b[0m\u001b[37m\u001b[0m \u001b[1m66s\u001b[0m 290ms/step - loss: 2.8024\n",
      "\u001b[1m227/227\u001b[0m \u001b[32m━━━━━━━━━━━━━━━━━━━━\u001b[0m\u001b[37m\u001b[0m \u001b[1m65s\u001b[0m 288ms/step - loss: 2.6298\n",
      "\u001b[1m227/227\u001b[0m \u001b[32m━━━━━━━━━━━━━━━━━━━━\u001b[0m\u001b[37m\u001b[0m \u001b[1m65s\u001b[0m 288ms/step - loss: 2.5016\n",
      "\u001b[1m227/227\u001b[0m \u001b[32m━━━━━━━━━━━━━━━━━━━━\u001b[0m\u001b[37m\u001b[0m \u001b[1m66s\u001b[0m 291ms/step - loss: 2.3969\n",
      "\u001b[1m227/227\u001b[0m \u001b[32m━━━━━━━━━━━━━━━━━━━━\u001b[0m\u001b[37m\u001b[0m \u001b[1m65s\u001b[0m 288ms/step - loss: 2.3182\n",
      "\u001b[1m227/227\u001b[0m \u001b[32m━━━━━━━━━━━━━━━━━━━━\u001b[0m\u001b[37m\u001b[0m \u001b[1m66s\u001b[0m 289ms/step - loss: 2.2523\n",
      "\u001b[1m227/227\u001b[0m \u001b[32m━━━━━━━━━━━━━━━━━━━━\u001b[0m\u001b[37m\u001b[0m \u001b[1m66s\u001b[0m 290ms/step - loss: 2.1927\n",
      "\u001b[1m227/227\u001b[0m \u001b[32m━━━━━━━━━━━━━━━━━━━━\u001b[0m\u001b[37m\u001b[0m \u001b[1m66s\u001b[0m 290ms/step - loss: 2.1440\n",
      "\u001b[1m227/227\u001b[0m \u001b[32m━━━━━━━━━━━━━━━━━━━━\u001b[0m\u001b[37m\u001b[0m \u001b[1m65s\u001b[0m 288ms/step - loss: 2.1009\n",
      "\u001b[1m227/227\u001b[0m \u001b[32m━━━━━━━━━━━━━━━━━━━━\u001b[0m\u001b[37m\u001b[0m \u001b[1m67s\u001b[0m 293ms/step - loss: 2.0601\n",
      "\u001b[1m227/227\u001b[0m \u001b[32m━━━━━━━━━━━━━━━━━━━━\u001b[0m\u001b[37m\u001b[0m \u001b[1m66s\u001b[0m 292ms/step - loss: 2.0221\n",
      "\u001b[1m227/227\u001b[0m \u001b[32m━━━━━━━━━━━━━━━━━━━━\u001b[0m\u001b[37m\u001b[0m \u001b[1m66s\u001b[0m 289ms/step - loss: 1.9867\n",
      "\u001b[1m186/227\u001b[0m \u001b[32m━━━━━━━━━━━━━━━━\u001b[0m\u001b[37m━━━━\u001b[0m \u001b[1m12s\u001b[0m 295ms/step - loss: 1.9524"
     ]
    }
   ],
   "source": [
    "epochs = 20\n",
    "batch_size = 32\n",
    "steps = len(train) // batch_size\n",
    "\n",
    "for i in range(epochs):\n",
    "    generator = data_generator(train, mapping, features, tokenizer, max_length, vocab_size, batch_size)\n",
    "    model.fit(generator, epochs=1, steps_per_epoch=steps, verbose=1)\n"
   ]
  },
  {
   "cell_type": "markdown",
   "id": "d9d13acf",
   "metadata": {
    "papermill": {
     "duration": 1.871709,
     "end_time": "2024-03-24T13:14:44.656639",
     "exception": false,
     "start_time": "2024-03-24T13:14:42.784930",
     "status": "completed"
    },
    "tags": []
   },
   "source": [
    "+ **steps = len(train) // batch_size** - back propagation and fetch the next data\n",
    "\n",
    "+ Loss decreases gradually over the iterations\n",
    "\n",
    "+ Increase the no. of epochs for better results\n",
    "\n",
    "+ Assign the no. of epochs and batch size accordingly for quicker results\n",
    "\n",
    "\n",
    "### You can save the model in the working directory for reuse"
   ]
  },
  {
   "cell_type": "code",
   "execution_count": null,
   "id": "1e3d7b6f",
   "metadata": {
    "papermill": {
     "duration": 1.978129,
     "end_time": "2024-03-24T13:14:48.528452",
     "exception": false,
     "start_time": "2024-03-24T13:14:46.550323",
     "status": "completed"
    },
    "tags": [],
    "trusted": true
   },
   "outputs": [],
   "source": [
    "# save the model\n",
    "model.save(WORKING_DIR+'/best_model.h5')"
   ]
  },
  {
   "cell_type": "markdown",
   "id": "5bd87b56",
   "metadata": {
    "papermill": {
     "duration": 1.931877,
     "end_time": "2024-03-24T13:14:52.309261",
     "exception": false,
     "start_time": "2024-03-24T13:14:50.377384",
     "status": "completed"
    },
    "tags": []
   },
   "source": [
    "# Generate Captions for the Image"
   ]
  },
  {
   "cell_type": "code",
   "execution_count": null,
   "id": "191af294",
   "metadata": {
    "papermill": {
     "duration": 1.866241,
     "end_time": "2024-03-24T13:14:56.046103",
     "exception": false,
     "start_time": "2024-03-24T13:14:54.179862",
     "status": "completed"
    },
    "tags": [],
    "trusted": true
   },
   "outputs": [],
   "source": [
    "def idx_to_word(integer, tokenizer):\n",
    "    for word, index in tokenizer.word_index.items():\n",
    "        if index == integer:\n",
    "            return word\n",
    "    return None"
   ]
  },
  {
   "cell_type": "markdown",
   "id": "5759ce88",
   "metadata": {
    "papermill": {
     "duration": 1.852774,
     "end_time": "2024-03-24T13:14:59.805209",
     "exception": false,
     "start_time": "2024-03-24T13:14:57.952435",
     "status": "completed"
    },
    "tags": []
   },
   "source": [
    "+ Convert the predicted index from the model into a word"
   ]
  },
  {
   "cell_type": "code",
   "execution_count": null,
   "id": "b107f209",
   "metadata": {
    "papermill": {
     "duration": 1.880343,
     "end_time": "2024-03-24T13:15:03.540562",
     "exception": false,
     "start_time": "2024-03-24T13:15:01.660219",
     "status": "completed"
    },
    "tags": [],
    "trusted": true
   },
   "outputs": [],
   "source": [
    "# generate caption for an image\n",
    "def predict_caption(model, image, tokenizer, max_length):\n",
    "    # add start tag for generation process\n",
    "    in_text = 'startseq'\n",
    "    # iterate over the max length of sequence\n",
    "    for i in range(max_length):\n",
    "        # encode input sequence\n",
    "        sequence = tokenizer.texts_to_sequences([in_text])[0]\n",
    "        # pad the sequence\n",
    "        sequence = pad_sequences([sequence], maxlen=max_length, padding='post')\n",
    "        # predict next word\n",
    "        yhat = model.predict([image, sequence], verbose=0)\n",
    "        # get index with high probability\n",
    "        yhat = np.argmax(yhat)\n",
    "        # convert index to word\n",
    "        word = idx_to_word(yhat, tokenizer)\n",
    "        # stop if word not found\n",
    "        if word is None:\n",
    "            break\n",
    "        # append word as input for generating next word\n",
    "        in_text += \" \" + word\n",
    "        # stop if we reach end tag\n",
    "        if word == 'endseq':\n",
    "            break\n",
    "    return in_text"
   ]
  },
  {
   "cell_type": "markdown",
   "id": "451677b1",
   "metadata": {
    "papermill": {
     "duration": 1.849268,
     "end_time": "2024-03-24T13:15:07.239083",
     "exception": false,
     "start_time": "2024-03-24T13:15:05.389815",
     "status": "completed"
    },
    "tags": []
   },
   "source": [
    "+ Captiongenerator appending all the words for an image\n",
    "\n",
    "+ The caption starts with 'startseq' and the model continues to predict the caption until the 'endseq' appeared"
   ]
  },
  {
   "cell_type": "markdown",
   "id": "4a592494",
   "metadata": {
    "papermill": {
     "duration": 1.850911,
     "end_time": "2024-03-24T13:15:10.982183",
     "exception": false,
     "start_time": "2024-03-24T13:15:09.131272",
     "status": "completed"
    },
    "tags": []
   },
   "source": [
    "# Model Validation\n",
    "Now we validate the data using BLEU Score"
   ]
  },
  {
   "cell_type": "code",
   "execution_count": null,
   "id": "26daf714",
   "metadata": {
    "papermill": {
     "duration": 347.282609,
     "end_time": "2024-03-24T13:21:00.221928",
     "exception": false,
     "start_time": "2024-03-24T13:15:12.939319",
     "status": "completed"
    },
    "tags": [],
    "trusted": true
   },
   "outputs": [],
   "source": [
    "from nltk.translate.bleu_score import corpus_bleu\n",
    "# validate with test data\n",
    "actual, predicted = list(), list()\n",
    "\n",
    "for key in tqdm(test):\n",
    "    # get actual caption\n",
    "    captions = mapping[key]\n",
    "    # predict the caption for image\n",
    "    y_pred = predict_caption(model, features[key], tokenizer, max_length)\n",
    "    # split into words\n",
    "    actual_captions = [caption.split() for caption in captions]\n",
    "    y_pred = y_pred.split()\n",
    "    # append to the list\n",
    "    actual.append(actual_captions)\n",
    "    predicted.append(y_pred)\n",
    "# calcuate BLEU score\n",
    "print(\"BLEU-1: %f\" % corpus_bleu(actual, predicted, weights=(1.0, 0, 0, 0)))\n",
    "print(\"BLEU-2: %f\" % corpus_bleu(actual, predicted, weights=(0.5, 0.5, 0, 0)))\n"
   ]
  },
  {
   "cell_type": "markdown",
   "id": "e6839ddd",
   "metadata": {
    "papermill": {
     "duration": 1.869973,
     "end_time": "2024-03-24T13:21:03.944818",
     "exception": false,
     "start_time": "2024-03-24T13:21:02.074845",
     "status": "completed"
    },
    "tags": []
   },
   "source": [
    "+ BLEU Score is used to evaluate the predicted text against a reference text, in a list of tokens.\n",
    "\n",
    "+ The reference text contains all the words appended from the captions data (actual_captions)\n",
    "\n",
    "+ A BLEU Score more than **0.4 is considered a good result**, for a better score increase the no. of epochs accordingly."
   ]
  },
  {
   "cell_type": "markdown",
   "id": "4fdb1288",
   "metadata": {
    "papermill": {
     "duration": 1.858037,
     "end_time": "2024-03-24T13:21:07.688649",
     "exception": false,
     "start_time": "2024-03-24T13:21:05.830612",
     "status": "completed"
    },
    "tags": []
   },
   "source": [
    "## Visualize the Results"
   ]
  },
  {
   "cell_type": "code",
   "execution_count": null,
   "id": "6a6ac886",
   "metadata": {
    "papermill": {
     "duration": 1.908182,
     "end_time": "2024-03-24T13:21:11.453425",
     "exception": false,
     "start_time": "2024-03-24T13:21:09.545243",
     "status": "completed"
    },
    "tags": [],
    "trusted": true
   },
   "outputs": [],
   "source": [
    "from PIL import Image\n",
    "import matplotlib.pyplot as plt\n",
    "def generate_caption(image_name):\n",
    "    # load the image\n",
    "    # image_name = \"1001773457_577c3a7d70.jpg\"\n",
    "    image_id = image_name.split('.')[0]\n",
    "    img_path = os.path.join(BASE_DIR, \"Images\", image_name)\n",
    "    image = Image.open(img_path)\n",
    "    captions = mapping[image_id]\n",
    "    print('---------------------Actual---------------------')\n",
    "    for caption in captions:\n",
    "        print(caption)\n",
    "    # predict the caption\n",
    "    y_pred = predict_caption(model, features[image_id], tokenizer, max_length)\n",
    "    print('--------------------Predicted--------------------')\n",
    "    print(y_pred)\n",
    "    plt.imshow(image)"
   ]
  },
  {
   "cell_type": "markdown",
   "id": "da660f4b",
   "metadata": {
    "papermill": {
     "duration": 1.864222,
     "end_time": "2024-03-24T13:21:15.186176",
     "exception": false,
     "start_time": "2024-03-24T13:21:13.321954",
     "status": "completed"
    },
    "tags": []
   },
   "source": [
    "+ Image caption generator defined\n",
    "\n",
    "+ First prints the actual captions of the image then prints a predicted caption of the image"
   ]
  },
  {
   "cell_type": "code",
   "execution_count": null,
   "id": "ab12b19e",
   "metadata": {
    "papermill": {
     "duration": 2.466493,
     "end_time": "2024-03-24T13:21:19.513435",
     "exception": false,
     "start_time": "2024-03-24T13:21:17.046942",
     "status": "completed"
    },
    "tags": [],
    "trusted": true
   },
   "outputs": [],
   "source": [
    "generate_caption(\"1001773457_577c3a7d70.jpg\")"
   ]
  },
  {
   "cell_type": "code",
   "execution_count": null,
   "id": "5b8527cf",
   "metadata": {
    "papermill": {
     "duration": 2.496245,
     "end_time": "2024-03-24T13:21:23.872493",
     "exception": false,
     "start_time": "2024-03-24T13:21:21.376248",
     "status": "completed"
    },
    "tags": [],
    "trusted": true
   },
   "outputs": [],
   "source": [
    "generate_caption(\"1002674143_1b742ab4b8.jpg\")"
   ]
  },
  {
   "cell_type": "code",
   "execution_count": null,
   "id": "b433c942",
   "metadata": {
    "papermill": {
     "duration": 2.472304,
     "end_time": "2024-03-24T13:21:28.240157",
     "exception": false,
     "start_time": "2024-03-24T13:21:25.767853",
     "status": "completed"
    },
    "tags": [],
    "trusted": true
   },
   "outputs": [],
   "source": [
    "generate_caption(\"101669240_b2d3e7f17b.jpg\")"
   ]
  },
  {
   "cell_type": "markdown",
   "id": "6ce9ce5e",
   "metadata": {
    "papermill": {
     "duration": 1.899668,
     "end_time": "2024-03-24T13:21:32.019766",
     "exception": false,
     "start_time": "2024-03-24T13:21:30.120098",
     "status": "completed"
    },
    "tags": []
   },
   "source": [
    "# Final Thoughts\n",
    "\n",
    "+ Training the model by increasing the no. of epochs can give better and more accurate results.\n",
    "\n",
    "+ Processing large amount of data can take a lot of time and system resource.\n",
    "\n",
    "+ The no. of layers of the model can be increased if you want to process large dataset like flickr32k.\n",
    "\n",
    "\n",
    "\n",
    "**In this project , we have built an Image Caption Generator exploring the Flickr Dataset as an advanced deep learning project using different models from image extraction and text based processing.** "
   ]
  },
  {
   "cell_type": "markdown",
   "id": "2915abcd",
   "metadata": {
    "papermill": {
     "duration": 1.960435,
     "end_time": "2024-03-24T13:21:35.900490",
     "exception": false,
     "start_time": "2024-03-24T13:21:33.940055",
     "status": "completed"
    },
    "tags": []
   },
   "source": [
    "**Thank you** for taking the time to explore this notebook. I hope you found it both enjoyable and informative. Please consider upvoting, sharing, and trying out the concepts presented. 😊📈✨"
   ]
  }
 ],
 "metadata": {
  "kaggle": {
   "accelerator": "nvidiaTeslaT4",
   "dataSources": [
    {
     "datasetId": 623289,
     "sourceId": 1111676,
     "sourceType": "datasetVersion"
    }
   ],
   "dockerImageVersionId": 31090,
   "isGpuEnabled": true,
   "isInternetEnabled": true,
   "language": "python",
   "sourceType": "notebook"
  },
  "kernelspec": {
   "display_name": "Python 3",
   "language": "python",
   "name": "python3"
  },
  "language_info": {
   "codemirror_mode": {
    "name": "ipython",
    "version": 3
   },
   "file_extension": ".py",
   "mimetype": "text/x-python",
   "name": "python",
   "nbconvert_exporter": "python",
   "pygments_lexer": "ipython3",
   "version": "3.11.13"
  },
  "papermill": {
   "default_parameters": {},
   "duration": 2165.226683,
   "end_time": "2024-03-24T13:21:40.838834",
   "environment_variables": {},
   "exception": null,
   "input_path": "__notebook__.ipynb",
   "output_path": "__notebook__.ipynb",
   "parameters": {},
   "start_time": "2024-03-24T12:45:35.612151",
   "version": "2.3.4"
  },
  "widgets": {
   "application/vnd.jupyter.widget-state+json": {
    "state": {
     "02cda6a5f3cb462f8297a1436e548edd": {
      "model_module": "@jupyter-widgets/controls",
      "model_module_version": "1.5.0",
      "model_name": "ProgressStyleModel",
      "state": {
       "_model_module": "@jupyter-widgets/controls",
       "_model_module_version": "1.5.0",
       "_model_name": "ProgressStyleModel",
       "_view_count": null,
       "_view_module": "@jupyter-widgets/base",
       "_view_module_version": "1.2.0",
       "_view_name": "StyleView",
       "bar_color": null,
       "description_width": ""
      }
     },
     "032a06caceb640a49156a2b633fe45e6": {
      "model_module": "@jupyter-widgets/controls",
      "model_module_version": "1.5.0",
      "model_name": "FloatProgressModel",
      "state": {
       "_dom_classes": [],
       "_model_module": "@jupyter-widgets/controls",
       "_model_module_version": "1.5.0",
       "_model_name": "FloatProgressModel",
       "_view_count": null,
       "_view_module": "@jupyter-widgets/controls",
       "_view_module_version": "1.5.0",
       "_view_name": "ProgressView",
       "bar_style": "success",
       "description": "",
       "description_tooltip": null,
       "layout": "IPY_MODEL_0496a0efd01646ed845042d904bd4607",
       "max": 8091,
       "min": 0,
       "orientation": "horizontal",
       "style": "IPY_MODEL_02cda6a5f3cb462f8297a1436e548edd",
       "value": 8091
      }
     },
     "0496a0efd01646ed845042d904bd4607": {
      "model_module": "@jupyter-widgets/base",
      "model_module_version": "1.2.0",
      "model_name": "LayoutModel",
      "state": {
       "_model_module": "@jupyter-widgets/base",
       "_model_module_version": "1.2.0",
       "_model_name": "LayoutModel",
       "_view_count": null,
       "_view_module": "@jupyter-widgets/base",
       "_view_module_version": "1.2.0",
       "_view_name": "LayoutView",
       "align_content": null,
       "align_items": null,
       "align_self": null,
       "border": null,
       "bottom": null,
       "display": null,
       "flex": null,
       "flex_flow": null,
       "grid_area": null,
       "grid_auto_columns": null,
       "grid_auto_flow": null,
       "grid_auto_rows": null,
       "grid_column": null,
       "grid_gap": null,
       "grid_row": null,
       "grid_template_areas": null,
       "grid_template_columns": null,
       "grid_template_rows": null,
       "height": null,
       "justify_content": null,
       "justify_items": null,
       "left": null,
       "margin": null,
       "max_height": null,
       "max_width": null,
       "min_height": null,
       "min_width": null,
       "object_fit": null,
       "object_position": null,
       "order": null,
       "overflow": null,
       "overflow_x": null,
       "overflow_y": null,
       "padding": null,
       "right": null,
       "top": null,
       "visibility": null,
       "width": null
      }
     },
     "049c22c01c8d478bb672a380e474be0c": {
      "model_module": "@jupyter-widgets/controls",
      "model_module_version": "1.5.0",
      "model_name": "DescriptionStyleModel",
      "state": {
       "_model_module": "@jupyter-widgets/controls",
       "_model_module_version": "1.5.0",
       "_model_name": "DescriptionStyleModel",
       "_view_count": null,
       "_view_module": "@jupyter-widgets/base",
       "_view_module_version": "1.2.0",
       "_view_name": "StyleView",
       "description_width": ""
      }
     },
     "175a764482b844209f8edcb606072618": {
      "model_module": "@jupyter-widgets/controls",
      "model_module_version": "1.5.0",
      "model_name": "HTMLModel",
      "state": {
       "_dom_classes": [],
       "_model_module": "@jupyter-widgets/controls",
       "_model_module_version": "1.5.0",
       "_model_name": "HTMLModel",
       "_view_count": null,
       "_view_module": "@jupyter-widgets/controls",
       "_view_module_version": "1.5.0",
       "_view_name": "HTMLView",
       "description": "",
       "description_tooltip": null,
       "layout": "IPY_MODEL_40f06447c2004338b1c077b3435b423e",
       "placeholder": "​",
       "style": "IPY_MODEL_ac5f4baf118046cc801abb233ccef543",
       "value": " 8091/8091 [07:36&lt;00:00, 18.60it/s]"
      }
     },
     "1916237be05e4032b98153a58f380705": {
      "model_module": "@jupyter-widgets/controls",
      "model_module_version": "1.5.0",
      "model_name": "HBoxModel",
      "state": {
       "_dom_classes": [],
       "_model_module": "@jupyter-widgets/controls",
       "_model_module_version": "1.5.0",
       "_model_name": "HBoxModel",
       "_view_count": null,
       "_view_module": "@jupyter-widgets/controls",
       "_view_module_version": "1.5.0",
       "_view_name": "HBoxView",
       "box_style": "",
       "children": [
        "IPY_MODEL_e64319d9589d4b97a67299eb37bbbce4",
        "IPY_MODEL_032a06caceb640a49156a2b633fe45e6",
        "IPY_MODEL_175a764482b844209f8edcb606072618"
       ],
       "layout": "IPY_MODEL_bb69224a3488443fb01158a9d30c1e52"
      }
     },
     "21e302767e6249afa64395b0e5b753b0": {
      "model_module": "@jupyter-widgets/controls",
      "model_module_version": "1.5.0",
      "model_name": "HTMLModel",
      "state": {
       "_dom_classes": [],
       "_model_module": "@jupyter-widgets/controls",
       "_model_module_version": "1.5.0",
       "_model_name": "HTMLModel",
       "_view_count": null,
       "_view_module": "@jupyter-widgets/controls",
       "_view_module_version": "1.5.0",
       "_view_name": "HTMLView",
       "description": "",
       "description_tooltip": null,
       "layout": "IPY_MODEL_af58cbd5496f40ceb99b3935539e86ab",
       "placeholder": "​",
       "style": "IPY_MODEL_6b716f8f75c343d3a4d806ac23a10231",
       "value": " 810/810 [05:43&lt;00:00,  2.05it/s]"
      }
     },
     "229cf8d345cb4022aab6482cb9f67c86": {
      "model_module": "@jupyter-widgets/base",
      "model_module_version": "1.2.0",
      "model_name": "LayoutModel",
      "state": {
       "_model_module": "@jupyter-widgets/base",
       "_model_module_version": "1.2.0",
       "_model_name": "LayoutModel",
       "_view_count": null,
       "_view_module": "@jupyter-widgets/base",
       "_view_module_version": "1.2.0",
       "_view_name": "LayoutView",
       "align_content": null,
       "align_items": null,
       "align_self": null,
       "border": null,
       "bottom": null,
       "display": null,
       "flex": null,
       "flex_flow": null,
       "grid_area": null,
       "grid_auto_columns": null,
       "grid_auto_flow": null,
       "grid_auto_rows": null,
       "grid_column": null,
       "grid_gap": null,
       "grid_row": null,
       "grid_template_areas": null,
       "grid_template_columns": null,
       "grid_template_rows": null,
       "height": null,
       "justify_content": null,
       "justify_items": null,
       "left": null,
       "margin": null,
       "max_height": null,
       "max_width": null,
       "min_height": null,
       "min_width": null,
       "object_fit": null,
       "object_position": null,
       "order": null,
       "overflow": null,
       "overflow_x": null,
       "overflow_y": null,
       "padding": null,
       "right": null,
       "top": null,
       "visibility": null,
       "width": null
      }
     },
     "351cc1cecfd943f8b0e95752d1a17153": {
      "model_module": "@jupyter-widgets/controls",
      "model_module_version": "1.5.0",
      "model_name": "DescriptionStyleModel",
      "state": {
       "_model_module": "@jupyter-widgets/controls",
       "_model_module_version": "1.5.0",
       "_model_name": "DescriptionStyleModel",
       "_view_count": null,
       "_view_module": "@jupyter-widgets/base",
       "_view_module_version": "1.2.0",
       "_view_name": "StyleView",
       "description_width": ""
      }
     },
     "3d1d70ad24f24e9da7af4bde5d640296": {
      "model_module": "@jupyter-widgets/controls",
      "model_module_version": "1.5.0",
      "model_name": "HBoxModel",
      "state": {
       "_dom_classes": [],
       "_model_module": "@jupyter-widgets/controls",
       "_model_module_version": "1.5.0",
       "_model_name": "HBoxModel",
       "_view_count": null,
       "_view_module": "@jupyter-widgets/controls",
       "_view_module_version": "1.5.0",
       "_view_name": "HBoxView",
       "box_style": "",
       "children": [
        "IPY_MODEL_89cfbc743914449a89b6c83d7aedc362",
        "IPY_MODEL_8417fd164951408fbd30709ce328c264",
        "IPY_MODEL_9583e4ee18394248af66584e48dbf0f5"
       ],
       "layout": "IPY_MODEL_4a6f61429d9c4f388491561f9c84e715"
      }
     },
     "3e77319dd15e4607bb9c3deb4052b5fb": {
      "model_module": "@jupyter-widgets/controls",
      "model_module_version": "1.5.0",
      "model_name": "FloatProgressModel",
      "state": {
       "_dom_classes": [],
       "_model_module": "@jupyter-widgets/controls",
       "_model_module_version": "1.5.0",
       "_model_name": "FloatProgressModel",
       "_view_count": null,
       "_view_module": "@jupyter-widgets/controls",
       "_view_module_version": "1.5.0",
       "_view_name": "ProgressView",
       "bar_style": "success",
       "description": "",
       "description_tooltip": null,
       "layout": "IPY_MODEL_f0eff246c45c472eb8c2b6a563d649fd",
       "max": 810,
       "min": 0,
       "orientation": "horizontal",
       "style": "IPY_MODEL_a4cf21d7569b44e88300a07965591d27",
       "value": 810
      }
     },
     "40f06447c2004338b1c077b3435b423e": {
      "model_module": "@jupyter-widgets/base",
      "model_module_version": "1.2.0",
      "model_name": "LayoutModel",
      "state": {
       "_model_module": "@jupyter-widgets/base",
       "_model_module_version": "1.2.0",
       "_model_name": "LayoutModel",
       "_view_count": null,
       "_view_module": "@jupyter-widgets/base",
       "_view_module_version": "1.2.0",
       "_view_name": "LayoutView",
       "align_content": null,
       "align_items": null,
       "align_self": null,
       "border": null,
       "bottom": null,
       "display": null,
       "flex": null,
       "flex_flow": null,
       "grid_area": null,
       "grid_auto_columns": null,
       "grid_auto_flow": null,
       "grid_auto_rows": null,
       "grid_column": null,
       "grid_gap": null,
       "grid_row": null,
       "grid_template_areas": null,
       "grid_template_columns": null,
       "grid_template_rows": null,
       "height": null,
       "justify_content": null,
       "justify_items": null,
       "left": null,
       "margin": null,
       "max_height": null,
       "max_width": null,
       "min_height": null,
       "min_width": null,
       "object_fit": null,
       "object_position": null,
       "order": null,
       "overflow": null,
       "overflow_x": null,
       "overflow_y": null,
       "padding": null,
       "right": null,
       "top": null,
       "visibility": null,
       "width": null
      }
     },
     "4a6f61429d9c4f388491561f9c84e715": {
      "model_module": "@jupyter-widgets/base",
      "model_module_version": "1.2.0",
      "model_name": "LayoutModel",
      "state": {
       "_model_module": "@jupyter-widgets/base",
       "_model_module_version": "1.2.0",
       "_model_name": "LayoutModel",
       "_view_count": null,
       "_view_module": "@jupyter-widgets/base",
       "_view_module_version": "1.2.0",
       "_view_name": "LayoutView",
       "align_content": null,
       "align_items": null,
       "align_self": null,
       "border": null,
       "bottom": null,
       "display": null,
       "flex": null,
       "flex_flow": null,
       "grid_area": null,
       "grid_auto_columns": null,
       "grid_auto_flow": null,
       "grid_auto_rows": null,
       "grid_column": null,
       "grid_gap": null,
       "grid_row": null,
       "grid_template_areas": null,
       "grid_template_columns": null,
       "grid_template_rows": null,
       "height": null,
       "justify_content": null,
       "justify_items": null,
       "left": null,
       "margin": null,
       "max_height": null,
       "max_width": null,
       "min_height": null,
       "min_width": null,
       "object_fit": null,
       "object_position": null,
       "order": null,
       "overflow": null,
       "overflow_x": null,
       "overflow_y": null,
       "padding": null,
       "right": null,
       "top": null,
       "visibility": null,
       "width": null
      }
     },
     "4b6576389f074eaea3cbb1e6f4281b87": {
      "model_module": "@jupyter-widgets/base",
      "model_module_version": "1.2.0",
      "model_name": "LayoutModel",
      "state": {
       "_model_module": "@jupyter-widgets/base",
       "_model_module_version": "1.2.0",
       "_model_name": "LayoutModel",
       "_view_count": null,
       "_view_module": "@jupyter-widgets/base",
       "_view_module_version": "1.2.0",
       "_view_name": "LayoutView",
       "align_content": null,
       "align_items": null,
       "align_self": null,
       "border": null,
       "bottom": null,
       "display": null,
       "flex": null,
       "flex_flow": null,
       "grid_area": null,
       "grid_auto_columns": null,
       "grid_auto_flow": null,
       "grid_auto_rows": null,
       "grid_column": null,
       "grid_gap": null,
       "grid_row": null,
       "grid_template_areas": null,
       "grid_template_columns": null,
       "grid_template_rows": null,
       "height": null,
       "justify_content": null,
       "justify_items": null,
       "left": null,
       "margin": null,
       "max_height": null,
       "max_width": null,
       "min_height": null,
       "min_width": null,
       "object_fit": null,
       "object_position": null,
       "order": null,
       "overflow": null,
       "overflow_x": null,
       "overflow_y": null,
       "padding": null,
       "right": null,
       "top": null,
       "visibility": null,
       "width": null
      }
     },
     "5c89a333ac4349f1bbc2f30fb59c9a69": {
      "model_module": "@jupyter-widgets/base",
      "model_module_version": "1.2.0",
      "model_name": "LayoutModel",
      "state": {
       "_model_module": "@jupyter-widgets/base",
       "_model_module_version": "1.2.0",
       "_model_name": "LayoutModel",
       "_view_count": null,
       "_view_module": "@jupyter-widgets/base",
       "_view_module_version": "1.2.0",
       "_view_name": "LayoutView",
       "align_content": null,
       "align_items": null,
       "align_self": null,
       "border": null,
       "bottom": null,
       "display": null,
       "flex": null,
       "flex_flow": null,
       "grid_area": null,
       "grid_auto_columns": null,
       "grid_auto_flow": null,
       "grid_auto_rows": null,
       "grid_column": null,
       "grid_gap": null,
       "grid_row": null,
       "grid_template_areas": null,
       "grid_template_columns": null,
       "grid_template_rows": null,
       "height": null,
       "justify_content": null,
       "justify_items": null,
       "left": null,
       "margin": null,
       "max_height": null,
       "max_width": null,
       "min_height": null,
       "min_width": null,
       "object_fit": null,
       "object_position": null,
       "order": null,
       "overflow": null,
       "overflow_x": null,
       "overflow_y": null,
       "padding": null,
       "right": null,
       "top": null,
       "visibility": null,
       "width": null
      }
     },
     "6b716f8f75c343d3a4d806ac23a10231": {
      "model_module": "@jupyter-widgets/controls",
      "model_module_version": "1.5.0",
      "model_name": "DescriptionStyleModel",
      "state": {
       "_model_module": "@jupyter-widgets/controls",
       "_model_module_version": "1.5.0",
       "_model_name": "DescriptionStyleModel",
       "_view_count": null,
       "_view_module": "@jupyter-widgets/base",
       "_view_module_version": "1.2.0",
       "_view_name": "StyleView",
       "description_width": ""
      }
     },
     "708d7d6dfb4a4f18a2490cddd32f7aaa": {
      "model_module": "@jupyter-widgets/base",
      "model_module_version": "1.2.0",
      "model_name": "LayoutModel",
      "state": {
       "_model_module": "@jupyter-widgets/base",
       "_model_module_version": "1.2.0",
       "_model_name": "LayoutModel",
       "_view_count": null,
       "_view_module": "@jupyter-widgets/base",
       "_view_module_version": "1.2.0",
       "_view_name": "LayoutView",
       "align_content": null,
       "align_items": null,
       "align_self": null,
       "border": null,
       "bottom": null,
       "display": null,
       "flex": null,
       "flex_flow": null,
       "grid_area": null,
       "grid_auto_columns": null,
       "grid_auto_flow": null,
       "grid_auto_rows": null,
       "grid_column": null,
       "grid_gap": null,
       "grid_row": null,
       "grid_template_areas": null,
       "grid_template_columns": null,
       "grid_template_rows": null,
       "height": null,
       "justify_content": null,
       "justify_items": null,
       "left": null,
       "margin": null,
       "max_height": null,
       "max_width": null,
       "min_height": null,
       "min_width": null,
       "object_fit": null,
       "object_position": null,
       "order": null,
       "overflow": null,
       "overflow_x": null,
       "overflow_y": null,
       "padding": null,
       "right": null,
       "top": null,
       "visibility": null,
       "width": null
      }
     },
     "79255aa4fe824dd4be06ac66e28d1600": {
      "model_module": "@jupyter-widgets/base",
      "model_module_version": "1.2.0",
      "model_name": "LayoutModel",
      "state": {
       "_model_module": "@jupyter-widgets/base",
       "_model_module_version": "1.2.0",
       "_model_name": "LayoutModel",
       "_view_count": null,
       "_view_module": "@jupyter-widgets/base",
       "_view_module_version": "1.2.0",
       "_view_name": "LayoutView",
       "align_content": null,
       "align_items": null,
       "align_self": null,
       "border": null,
       "bottom": null,
       "display": null,
       "flex": null,
       "flex_flow": null,
       "grid_area": null,
       "grid_auto_columns": null,
       "grid_auto_flow": null,
       "grid_auto_rows": null,
       "grid_column": null,
       "grid_gap": null,
       "grid_row": null,
       "grid_template_areas": null,
       "grid_template_columns": null,
       "grid_template_rows": null,
       "height": null,
       "justify_content": null,
       "justify_items": null,
       "left": null,
       "margin": null,
       "max_height": null,
       "max_width": null,
       "min_height": null,
       "min_width": null,
       "object_fit": null,
       "object_position": null,
       "order": null,
       "overflow": null,
       "overflow_x": null,
       "overflow_y": null,
       "padding": null,
       "right": null,
       "top": null,
       "visibility": null,
       "width": null
      }
     },
     "8417fd164951408fbd30709ce328c264": {
      "model_module": "@jupyter-widgets/controls",
      "model_module_version": "1.5.0",
      "model_name": "FloatProgressModel",
      "state": {
       "_dom_classes": [],
       "_model_module": "@jupyter-widgets/controls",
       "_model_module_version": "1.5.0",
       "_model_name": "FloatProgressModel",
       "_view_count": null,
       "_view_module": "@jupyter-widgets/controls",
       "_view_module_version": "1.5.0",
       "_view_name": "ProgressView",
       "bar_style": "success",
       "description": "",
       "description_tooltip": null,
       "layout": "IPY_MODEL_229cf8d345cb4022aab6482cb9f67c86",
       "max": 40456,
       "min": 0,
       "orientation": "horizontal",
       "style": "IPY_MODEL_9663bd67539342f9b94721e830c74dc7",
       "value": 40456
      }
     },
     "89cfbc743914449a89b6c83d7aedc362": {
      "model_module": "@jupyter-widgets/controls",
      "model_module_version": "1.5.0",
      "model_name": "HTMLModel",
      "state": {
       "_dom_classes": [],
       "_model_module": "@jupyter-widgets/controls",
       "_model_module_version": "1.5.0",
       "_model_name": "HTMLModel",
       "_view_count": null,
       "_view_module": "@jupyter-widgets/controls",
       "_view_module_version": "1.5.0",
       "_view_name": "HTMLView",
       "description": "",
       "description_tooltip": null,
       "layout": "IPY_MODEL_4b6576389f074eaea3cbb1e6f4281b87",
       "placeholder": "​",
       "style": "IPY_MODEL_049c22c01c8d478bb672a380e474be0c",
       "value": "100%"
      }
     },
     "916da631ecf04042a70d21cdf0675c0d": {
      "model_module": "@jupyter-widgets/controls",
      "model_module_version": "1.5.0",
      "model_name": "HBoxModel",
      "state": {
       "_dom_classes": [],
       "_model_module": "@jupyter-widgets/controls",
       "_model_module_version": "1.5.0",
       "_model_name": "HBoxModel",
       "_view_count": null,
       "_view_module": "@jupyter-widgets/controls",
       "_view_module_version": "1.5.0",
       "_view_name": "HBoxView",
       "box_style": "",
       "children": [
        "IPY_MODEL_9dd7179aaf804c9da63a32f31524dd7b",
        "IPY_MODEL_3e77319dd15e4607bb9c3deb4052b5fb",
        "IPY_MODEL_21e302767e6249afa64395b0e5b753b0"
       ],
       "layout": "IPY_MODEL_708d7d6dfb4a4f18a2490cddd32f7aaa"
      }
     },
     "9583e4ee18394248af66584e48dbf0f5": {
      "model_module": "@jupyter-widgets/controls",
      "model_module_version": "1.5.0",
      "model_name": "HTMLModel",
      "state": {
       "_dom_classes": [],
       "_model_module": "@jupyter-widgets/controls",
       "_model_module_version": "1.5.0",
       "_model_name": "HTMLModel",
       "_view_count": null,
       "_view_module": "@jupyter-widgets/controls",
       "_view_module_version": "1.5.0",
       "_view_name": "HTMLView",
       "description": "",
       "description_tooltip": null,
       "layout": "IPY_MODEL_a25a6bd065444fc38b442f6eee00a7cb",
       "placeholder": "​",
       "style": "IPY_MODEL_df704654fca1478792ce643ae2270f16",
       "value": " 40456/40456 [00:00&lt;00:00, 271305.03it/s]"
      }
     },
     "9663bd67539342f9b94721e830c74dc7": {
      "model_module": "@jupyter-widgets/controls",
      "model_module_version": "1.5.0",
      "model_name": "ProgressStyleModel",
      "state": {
       "_model_module": "@jupyter-widgets/controls",
       "_model_module_version": "1.5.0",
       "_model_name": "ProgressStyleModel",
       "_view_count": null,
       "_view_module": "@jupyter-widgets/base",
       "_view_module_version": "1.2.0",
       "_view_name": "StyleView",
       "bar_color": null,
       "description_width": ""
      }
     },
     "9dd7179aaf804c9da63a32f31524dd7b": {
      "model_module": "@jupyter-widgets/controls",
      "model_module_version": "1.5.0",
      "model_name": "HTMLModel",
      "state": {
       "_dom_classes": [],
       "_model_module": "@jupyter-widgets/controls",
       "_model_module_version": "1.5.0",
       "_model_name": "HTMLModel",
       "_view_count": null,
       "_view_module": "@jupyter-widgets/controls",
       "_view_module_version": "1.5.0",
       "_view_name": "HTMLView",
       "description": "",
       "description_tooltip": null,
       "layout": "IPY_MODEL_5c89a333ac4349f1bbc2f30fb59c9a69",
       "placeholder": "​",
       "style": "IPY_MODEL_e025692dfc8a4d238c1d00af0ffc662f",
       "value": "100%"
      }
     },
     "a25a6bd065444fc38b442f6eee00a7cb": {
      "model_module": "@jupyter-widgets/base",
      "model_module_version": "1.2.0",
      "model_name": "LayoutModel",
      "state": {
       "_model_module": "@jupyter-widgets/base",
       "_model_module_version": "1.2.0",
       "_model_name": "LayoutModel",
       "_view_count": null,
       "_view_module": "@jupyter-widgets/base",
       "_view_module_version": "1.2.0",
       "_view_name": "LayoutView",
       "align_content": null,
       "align_items": null,
       "align_self": null,
       "border": null,
       "bottom": null,
       "display": null,
       "flex": null,
       "flex_flow": null,
       "grid_area": null,
       "grid_auto_columns": null,
       "grid_auto_flow": null,
       "grid_auto_rows": null,
       "grid_column": null,
       "grid_gap": null,
       "grid_row": null,
       "grid_template_areas": null,
       "grid_template_columns": null,
       "grid_template_rows": null,
       "height": null,
       "justify_content": null,
       "justify_items": null,
       "left": null,
       "margin": null,
       "max_height": null,
       "max_width": null,
       "min_height": null,
       "min_width": null,
       "object_fit": null,
       "object_position": null,
       "order": null,
       "overflow": null,
       "overflow_x": null,
       "overflow_y": null,
       "padding": null,
       "right": null,
       "top": null,
       "visibility": null,
       "width": null
      }
     },
     "a4cf21d7569b44e88300a07965591d27": {
      "model_module": "@jupyter-widgets/controls",
      "model_module_version": "1.5.0",
      "model_name": "ProgressStyleModel",
      "state": {
       "_model_module": "@jupyter-widgets/controls",
       "_model_module_version": "1.5.0",
       "_model_name": "ProgressStyleModel",
       "_view_count": null,
       "_view_module": "@jupyter-widgets/base",
       "_view_module_version": "1.2.0",
       "_view_name": "StyleView",
       "bar_color": null,
       "description_width": ""
      }
     },
     "ac5f4baf118046cc801abb233ccef543": {
      "model_module": "@jupyter-widgets/controls",
      "model_module_version": "1.5.0",
      "model_name": "DescriptionStyleModel",
      "state": {
       "_model_module": "@jupyter-widgets/controls",
       "_model_module_version": "1.5.0",
       "_model_name": "DescriptionStyleModel",
       "_view_count": null,
       "_view_module": "@jupyter-widgets/base",
       "_view_module_version": "1.2.0",
       "_view_name": "StyleView",
       "description_width": ""
      }
     },
     "af58cbd5496f40ceb99b3935539e86ab": {
      "model_module": "@jupyter-widgets/base",
      "model_module_version": "1.2.0",
      "model_name": "LayoutModel",
      "state": {
       "_model_module": "@jupyter-widgets/base",
       "_model_module_version": "1.2.0",
       "_model_name": "LayoutModel",
       "_view_count": null,
       "_view_module": "@jupyter-widgets/base",
       "_view_module_version": "1.2.0",
       "_view_name": "LayoutView",
       "align_content": null,
       "align_items": null,
       "align_self": null,
       "border": null,
       "bottom": null,
       "display": null,
       "flex": null,
       "flex_flow": null,
       "grid_area": null,
       "grid_auto_columns": null,
       "grid_auto_flow": null,
       "grid_auto_rows": null,
       "grid_column": null,
       "grid_gap": null,
       "grid_row": null,
       "grid_template_areas": null,
       "grid_template_columns": null,
       "grid_template_rows": null,
       "height": null,
       "justify_content": null,
       "justify_items": null,
       "left": null,
       "margin": null,
       "max_height": null,
       "max_width": null,
       "min_height": null,
       "min_width": null,
       "object_fit": null,
       "object_position": null,
       "order": null,
       "overflow": null,
       "overflow_x": null,
       "overflow_y": null,
       "padding": null,
       "right": null,
       "top": null,
       "visibility": null,
       "width": null
      }
     },
     "bb69224a3488443fb01158a9d30c1e52": {
      "model_module": "@jupyter-widgets/base",
      "model_module_version": "1.2.0",
      "model_name": "LayoutModel",
      "state": {
       "_model_module": "@jupyter-widgets/base",
       "_model_module_version": "1.2.0",
       "_model_name": "LayoutModel",
       "_view_count": null,
       "_view_module": "@jupyter-widgets/base",
       "_view_module_version": "1.2.0",
       "_view_name": "LayoutView",
       "align_content": null,
       "align_items": null,
       "align_self": null,
       "border": null,
       "bottom": null,
       "display": null,
       "flex": null,
       "flex_flow": null,
       "grid_area": null,
       "grid_auto_columns": null,
       "grid_auto_flow": null,
       "grid_auto_rows": null,
       "grid_column": null,
       "grid_gap": null,
       "grid_row": null,
       "grid_template_areas": null,
       "grid_template_columns": null,
       "grid_template_rows": null,
       "height": null,
       "justify_content": null,
       "justify_items": null,
       "left": null,
       "margin": null,
       "max_height": null,
       "max_width": null,
       "min_height": null,
       "min_width": null,
       "object_fit": null,
       "object_position": null,
       "order": null,
       "overflow": null,
       "overflow_x": null,
       "overflow_y": null,
       "padding": null,
       "right": null,
       "top": null,
       "visibility": null,
       "width": null
      }
     },
     "df704654fca1478792ce643ae2270f16": {
      "model_module": "@jupyter-widgets/controls",
      "model_module_version": "1.5.0",
      "model_name": "DescriptionStyleModel",
      "state": {
       "_model_module": "@jupyter-widgets/controls",
       "_model_module_version": "1.5.0",
       "_model_name": "DescriptionStyleModel",
       "_view_count": null,
       "_view_module": "@jupyter-widgets/base",
       "_view_module_version": "1.2.0",
       "_view_name": "StyleView",
       "description_width": ""
      }
     },
     "e025692dfc8a4d238c1d00af0ffc662f": {
      "model_module": "@jupyter-widgets/controls",
      "model_module_version": "1.5.0",
      "model_name": "DescriptionStyleModel",
      "state": {
       "_model_module": "@jupyter-widgets/controls",
       "_model_module_version": "1.5.0",
       "_model_name": "DescriptionStyleModel",
       "_view_count": null,
       "_view_module": "@jupyter-widgets/base",
       "_view_module_version": "1.2.0",
       "_view_name": "StyleView",
       "description_width": ""
      }
     },
     "e64319d9589d4b97a67299eb37bbbce4": {
      "model_module": "@jupyter-widgets/controls",
      "model_module_version": "1.5.0",
      "model_name": "HTMLModel",
      "state": {
       "_dom_classes": [],
       "_model_module": "@jupyter-widgets/controls",
       "_model_module_version": "1.5.0",
       "_model_name": "HTMLModel",
       "_view_count": null,
       "_view_module": "@jupyter-widgets/controls",
       "_view_module_version": "1.5.0",
       "_view_name": "HTMLView",
       "description": "",
       "description_tooltip": null,
       "layout": "IPY_MODEL_79255aa4fe824dd4be06ac66e28d1600",
       "placeholder": "​",
       "style": "IPY_MODEL_351cc1cecfd943f8b0e95752d1a17153",
       "value": "100%"
      }
     },
     "f0eff246c45c472eb8c2b6a563d649fd": {
      "model_module": "@jupyter-widgets/base",
      "model_module_version": "1.2.0",
      "model_name": "LayoutModel",
      "state": {
       "_model_module": "@jupyter-widgets/base",
       "_model_module_version": "1.2.0",
       "_model_name": "LayoutModel",
       "_view_count": null,
       "_view_module": "@jupyter-widgets/base",
       "_view_module_version": "1.2.0",
       "_view_name": "LayoutView",
       "align_content": null,
       "align_items": null,
       "align_self": null,
       "border": null,
       "bottom": null,
       "display": null,
       "flex": null,
       "flex_flow": null,
       "grid_area": null,
       "grid_auto_columns": null,
       "grid_auto_flow": null,
       "grid_auto_rows": null,
       "grid_column": null,
       "grid_gap": null,
       "grid_row": null,
       "grid_template_areas": null,
       "grid_template_columns": null,
       "grid_template_rows": null,
       "height": null,
       "justify_content": null,
       "justify_items": null,
       "left": null,
       "margin": null,
       "max_height": null,
       "max_width": null,
       "min_height": null,
       "min_width": null,
       "object_fit": null,
       "object_position": null,
       "order": null,
       "overflow": null,
       "overflow_x": null,
       "overflow_y": null,
       "padding": null,
       "right": null,
       "top": null,
       "visibility": null,
       "width": null
      }
     }
    },
    "version_major": 2,
    "version_minor": 0
   }
  }
 },
 "nbformat": 4,
 "nbformat_minor": 5
}
