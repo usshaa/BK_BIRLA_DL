{
  "cells": [
    {
      "cell_type": "markdown",
      "id": "ae91263e",
      "metadata": {
        "id": "ae91263e"
      },
      "source": [
        "# ResNet50 Transfer Learning Example in Google Colab\n",
        "This notebook demonstrates how to use ResNet50 with Transfer Learning on CIFAR-10 dataset.\n"
      ]
    },
    {
      "cell_type": "code",
      "source": [
        "# Supports: lenet, alexnet, mobilenetv2, resnet50, efficientnetb0, vgg16\n",
        "\n",
        "import tensorflow as tf\n",
        "from tensorflow import keras\n",
        "from tensorflow.keras import layers, models\n",
        "from tensorflow.keras.datasets import cifar10"
      ],
      "metadata": {
        "id": "OFBEsdrMaAff"
      },
      "id": "OFBEsdrMaAff",
      "execution_count": null,
      "outputs": []
    },
    {
      "cell_type": "code",
      "source": [
        "# Enable mixed precision for memory saving\n",
        "from tensorflow.keras import mixed_precision\n",
        "mixed_precision.set_global_policy('mixed_float16')"
      ],
      "metadata": {
        "id": "H18ExpAGg-8s"
      },
      "id": "H18ExpAGg-8s",
      "execution_count": null,
      "outputs": []
    },
    {
      "cell_type": "code",
      "source": [
        "MODEL_NAME = \"resnet50\"\n",
        "EPOCHS = 3\n",
        "BATCH_SIZE = 8\n",
        "IMG_SIZE = (128, 128)  # resized on the fly"
      ],
      "metadata": {
        "id": "sOLKdVarhC1f"
      },
      "id": "sOLKdVarhC1f",
      "execution_count": null,
      "outputs": []
    },
    {
      "cell_type": "code",
      "source": [
        "(x_train, y_train), (x_test, y_test) = cifar10.load_data()\n",
        "y_train = keras.utils.to_categorical(y_train, 10)\n",
        "y_test = keras.utils.to_categorical(y_test, 10)"
      ],
      "metadata": {
        "id": "Y_i-vFWAhHi6"
      },
      "id": "Y_i-vFWAhHi6",
      "execution_count": null,
      "outputs": []
    },
    {
      "cell_type": "code",
      "source": [
        "# Normalize pixel values\n",
        "x_train = x_train / 255.0\n",
        "x_test = x_test / 255.0"
      ],
      "metadata": {
        "id": "J_OIBtUehJ3Q"
      },
      "id": "J_OIBtUehJ3Q",
      "execution_count": null,
      "outputs": []
    },
    {
      "cell_type": "code",
      "source": [
        "train_ds = tf.data.Dataset.from_tensor_slices((x_train, y_train)).map(\n",
        "    lambda x, y: (tf.image.resize(x, IMG_SIZE), y), num_parallel_calls=tf.data.AUTOTUNE\n",
        ").batch(BATCH_SIZE).prefetch(tf.data.AUTOTUNE)"
      ],
      "metadata": {
        "id": "gJJPMtuUhMer"
      },
      "id": "gJJPMtuUhMer",
      "execution_count": null,
      "outputs": []
    },
    {
      "cell_type": "code",
      "source": [
        "test_ds = tf.data.Dataset.from_tensor_slices((x_test, y_test)).map(\n",
        "    lambda x, y: (tf.image.resize(x, IMG_SIZE), y), num_parallel_calls=tf.data.AUTOTUNE\n",
        ").batch(BATCH_SIZE).prefetch(tf.data.AUTOTUNE)"
      ],
      "metadata": {
        "id": "MrCBYitahPO7"
      },
      "id": "MrCBYitahPO7",
      "execution_count": null,
      "outputs": []
    },
    {
      "cell_type": "code",
      "source": [
        "def build_model(name):\n",
        "    if name == \"lenet\":\n",
        "        model = models.Sequential([\n",
        "            layers.Conv2D(6, (5,5), activation='relu', input_shape=IMG_SIZE + (3,)),\n",
        "            layers.AveragePooling2D(),\n",
        "            layers.Conv2D(16, (5,5), activation='relu'),\n",
        "            layers.AveragePooling2D(),\n",
        "            layers.Flatten(),\n",
        "            layers.Dense(120, activation='relu'),\n",
        "            layers.Dense(84, activation='relu'),\n",
        "            layers.Dense(10, activation='softmax', dtype='float32')\n",
        "        ])\n",
        "\n",
        "    elif name == \"alexnet\":\n",
        "        model = models.Sequential([\n",
        "            layers.Conv2D(96, (11,11), strides=4, activation='relu', input_shape=IMG_SIZE + (3,)),\n",
        "            layers.BatchNormalization(),\n",
        "            layers.MaxPooling2D(3, strides=2),\n",
        "            layers.Conv2D(256, (5,5), padding='same', activation='relu'),\n",
        "            layers.BatchNormalization(),\n",
        "            layers.MaxPooling2D(3, strides=2),\n",
        "            layers.Conv2D(384, (3,3), padding='same', activation='relu'),\n",
        "            layers.Conv2D(384, (3,3), padding='same', activation='relu'),\n",
        "            layers.Conv2D(256, (3,3), padding='same', activation='relu'),\n",
        "            layers.MaxPooling2D(3, strides=2),\n",
        "            layers.Flatten(),\n",
        "            layers.Dense(4096, activation='relu'),\n",
        "            layers.Dropout(0.5),\n",
        "            layers.Dense(4096, activation='relu'),\n",
        "            layers.Dropout(0.5),\n",
        "            layers.Dense(10, activation='softmax', dtype='float32')\n",
        "        ])\n",
        "\n",
        "    elif name == \"mobilenetv2\":\n",
        "        base_model = keras.applications.MobileNetV2(\n",
        "            input_shape=IMG_SIZE + (3,), include_top=False, weights='imagenet')\n",
        "        base_model.trainable = False\n",
        "        model = models.Sequential([\n",
        "            base_model,\n",
        "            layers.GlobalAveragePooling2D(),\n",
        "            layers.Dense(10, activation='softmax', dtype='float32')\n",
        "        ])\n",
        "\n",
        "    elif name == \"resnet50\":\n",
        "        base_model = keras.applications.ResNet50(\n",
        "            input_shape=IMG_SIZE + (3,), include_top=False, weights='imagenet')\n",
        "        base_model.trainable = False\n",
        "        model = models.Sequential([\n",
        "            base_model,\n",
        "            layers.GlobalAveragePooling2D(),\n",
        "            layers.Dense(10, activation='softmax', dtype='float32')\n",
        "        ])\n",
        "\n",
        "    elif name == \"efficientnetb0\":\n",
        "        base_model = keras.applications.EfficientNetB0(\n",
        "            input_shape=IMG_SIZE + (3,), include_top=False, weights='imagenet')\n",
        "        base_model.trainable = False\n",
        "        model = models.Sequential([\n",
        "            base_model,\n",
        "            layers.GlobalAveragePooling2D(),\n",
        "            layers.Dense(10, activation='softmax', dtype='float32')\n",
        "        ])\n",
        "\n",
        "    elif name == \"vgg16\":\n",
        "        base_model = keras.applications.VGG16(\n",
        "            input_shape=IMG_SIZE + (3,), include_top=False, weights='imagenet')\n",
        "        base_model.trainable = False\n",
        "        model = models.Sequential([\n",
        "            base_model,\n",
        "            layers.GlobalAveragePooling2D(),\n",
        "            layers.Dense(10, activation='softmax', dtype='float32')\n",
        "        ])\n",
        "\n",
        "    return model"
      ],
      "metadata": {
        "id": "C9GsLM1XhRKC"
      },
      "id": "C9GsLM1XhRKC",
      "execution_count": null,
      "outputs": []
    },
    {
      "cell_type": "code",
      "source": [
        "model = build_model(MODEL_NAME)\n",
        "model.compile(optimizer='adam',\n",
        "              loss='categorical_crossentropy',\n",
        "              metrics=['accuracy'])"
      ],
      "metadata": {
        "id": "0xDLuXxPhWR7"
      },
      "id": "0xDLuXxPhWR7",
      "execution_count": null,
      "outputs": []
    },
    {
      "cell_type": "code",
      "source": [
        "model.summary()"
      ],
      "metadata": {
        "id": "-ETLpJLjhY7F"
      },
      "id": "-ETLpJLjhY7F",
      "execution_count": null,
      "outputs": []
    },
    {
      "cell_type": "code",
      "source": [
        "history = model.fit(train_ds, validation_data=test_ds, epochs=EPOCHS)"
      ],
      "metadata": {
        "id": "hw27GS_JhbJh"
      },
      "id": "hw27GS_JhbJh",
      "execution_count": null,
      "outputs": []
    },
    {
      "cell_type": "code",
      "source": [
        "test_loss, test_acc = model.evaluate(test_ds)\n",
        "print(f\"✅ Test Accuracy: {test_acc:.4f}\")"
      ],
      "metadata": {
        "id": "I-VdbrhHhdWn"
      },
      "id": "I-VdbrhHhdWn",
      "execution_count": null,
      "outputs": []
    }
  ],
  "metadata": {
    "colab": {
      "provenance": []
    },
    "language_info": {
      "name": "python"
    },
    "kernelspec": {
      "name": "python3",
      "display_name": "Python 3"
    }
  },
  "nbformat": 4,
  "nbformat_minor": 5
}