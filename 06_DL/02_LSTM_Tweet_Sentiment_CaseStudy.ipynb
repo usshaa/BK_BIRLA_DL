{
  "cells": [
    {
      "cell_type": "markdown",
      "id": "5c8e221c",
      "metadata": {
        "id": "5c8e221c"
      },
      "source": [
        "# Case Study: Tweet Sentiment Classification using LSTM\n",
        "### Overview\n",
        "Classify short social posts (tweets) into Positive / Neutral / Negative. This notebook walks through text preprocessing, tokenization, embedding, LSTM model building, training, evaluation and prediction.\n"
      ]
    },
    {
      "cell_type": "markdown",
      "id": "3cb76b4b",
      "metadata": {
        "id": "3cb76b4b"
      },
      "source": [
        "## 1) Problem and why LSTM?\n",
        "Tweets are short but may contain context, emojis, and slang. LSTM's gating helps retain useful information longer compared to a simple RNN."
      ]
    },
    {
      "cell_type": "markdown",
      "id": "351ad434",
      "metadata": {
        "id": "351ad434"
      },
      "source": [
        "## 2) Synthetic dataset creation and exploratory look"
      ]
    },
    {
      "cell_type": "code",
      "execution_count": 2,
      "id": "e9f30282",
      "metadata": {
        "colab": {
          "base_uri": "https://localhost:8080/"
        },
        "id": "e9f30282",
        "outputId": "6a8effe2-ce04-442f-b9cd-29de19f1925e"
      },
      "outputs": [
        {
          "output_type": "stream",
          "name": "stdout",
          "text": [
            "Dataset size: 2400\n",
            "Class distribution: {'neutral': 800, 'negative': 800, 'positive': 800}\n"
          ]
        }
      ],
      "source": [
        "\n",
        "# Create a synthetic tweet-like dataset\n",
        "import numpy as np\n",
        "import matplotlib.pyplot as plt\n",
        "from sklearn.model_selection import train_test_split\n",
        "from sklearn.preprocessing import LabelEncoder\n",
        "\n",
        "positive = [\n",
        "    \"love this product\", \"so happy with it\", \"amazing service :)\", \"best purchase ever\",\n",
        "    \"wow excellent\", \"very satisfied\", \"thumbs up\", \"highly recommend\", \"great job!\", \"😍 loved it\"\n",
        "]\n",
        "negative = [\n",
        "    \"hate it\", \"very bad\", \"terrible experience :(\", \"worst purchase\", \"not recommend\",\n",
        "    \"disappointed\", \"it broke\", \"so upset\", \"awful\", \"😡 hate\"\n",
        "]\n",
        "neutral = [\n",
        "    \"it arrived today\", \"ok product\", \"average quality\", \"not sure\", \"maybe later\",\n",
        "    \"waiting for update\", \"received item\", \"it works\", \"no opinion\", \"status ok\"\n",
        "]\n",
        "\n",
        "texts = positive*80 + negative*80 + neutral*80  # 2400 samples for better stability\n",
        "labels = (['positive']*len(positive)*80) + (['negative']*len(negative)*80) + (['neutral']*len(neutral)*80)\n",
        "\n",
        "# shuffle\n",
        "rng = np.random.default_rng(1234)\n",
        "idx = rng.permutation(len(texts))\n",
        "texts = [texts[i] for i in idx]\n",
        "labels = [labels[i] for i in idx]\n",
        "\n",
        "# Quick dataset stats\n",
        "import collections\n",
        "print(\"Dataset size:\", len(texts))\n",
        "print(\"Class distribution:\", dict(collections.Counter(labels)))\n"
      ]
    },
    {
      "cell_type": "markdown",
      "id": "17f17bd1",
      "metadata": {
        "id": "17f17bd1"
      },
      "source": [
        "## 3) Text preprocessing & tokenization\n",
        "We will tokenize, convert to sequences, and pad to a fixed length. We'll also use an Embedding layer for dense representations."
      ]
    },
    {
      "cell_type": "code",
      "execution_count": 3,
      "id": "f0c2bcd5",
      "metadata": {
        "colab": {
          "base_uri": "https://localhost:8080/"
        },
        "id": "f0c2bcd5",
        "outputId": "5f8c3613-d9ce-4245-8ab4-9418b90c9de2"
      },
      "outputs": [
        {
          "output_type": "stream",
          "name": "stdout",
          "text": [
            "X shape: (2400, 15) Sample sequence (token ids): [2, 11]\n",
            "Vocabulary size (actual): 54\n"
          ]
        }
      ],
      "source": [
        "\n",
        "from tensorflow.keras.preprocessing.text import Tokenizer\n",
        "from tensorflow.keras.preprocessing.sequence import pad_sequences\n",
        "\n",
        "max_words = 3000\n",
        "tokenizer = Tokenizer(num_words=max_words, oov_token=\"<OOV>\")\n",
        "tokenizer.fit_on_texts(texts)\n",
        "sequences = tokenizer.texts_to_sequences(texts)\n",
        "maxlen = 15\n",
        "X = pad_sequences(sequences, maxlen=maxlen, padding='post')\n",
        "\n",
        "# labels\n",
        "le = LabelEncoder()\n",
        "y = le.fit_transform(labels)\n",
        "\n",
        "# train test split\n",
        "X_train, X_test, y_train, y_test = train_test_split(X, y, test_size=0.15, random_state=42, stratify=y)\n",
        "\n",
        "print(\"X shape:\", X.shape, \"Sample sequence (token ids):\", sequences[0])\n",
        "print(\"Vocabulary size (actual):\", min(max_words, len(tokenizer.word_index)+1))\n"
      ]
    },
    {
      "cell_type": "markdown",
      "id": "13a93637",
      "metadata": {
        "id": "13a93637"
      },
      "source": [
        "## 4) Workflow diagram and model architecture\n",
        "Embedding -> LSTM -> Dense(softmax). We'll show a simple diagram and then build the model."
      ]
    },
    {
      "cell_type": "code",
      "source": [
        "# Build LSTM model\n",
        "from tensorflow.keras.models import Sequential\n",
        "from tensorflow.keras.layers import Embedding, LSTM, Dense, SpatialDropout1D\n",
        "from tensorflow.keras.optimizers import Adam\n",
        "from sklearn.metrics import classification_report, confusion_matrix, accuracy_score"
      ],
      "metadata": {
        "id": "my2IUY_9AL80"
      },
      "id": "my2IUY_9AL80",
      "execution_count": 5,
      "outputs": []
    },
    {
      "cell_type": "code",
      "source": [
        "embedding_dim = 50\n",
        "model = Sequential([\n",
        "    Embedding(input_dim=max_words, output_dim=embedding_dim, input_length=maxlen),\n",
        "    SpatialDropout1D(0.2),\n",
        "    LSTM(64),\n",
        "    Dense(3, activation='softmax')\n",
        "])"
      ],
      "metadata": {
        "colab": {
          "base_uri": "https://localhost:8080/"
        },
        "id": "dZfL3OXOAOjd",
        "outputId": "4196661d-7006-47fc-9fdd-875ac3cebde3"
      },
      "id": "dZfL3OXOAOjd",
      "execution_count": 6,
      "outputs": [
        {
          "output_type": "stream",
          "name": "stderr",
          "text": [
            "/usr/local/lib/python3.11/dist-packages/keras/src/layers/core/embedding.py:97: UserWarning: Argument `input_length` is deprecated. Just remove it.\n",
            "  warnings.warn(\n"
          ]
        }
      ]
    },
    {
      "cell_type": "code",
      "source": [
        "model.compile(optimizer=Adam(learning_rate=0.001), loss='sparse_categorical_crossentropy', metrics=['accuracy'])"
      ],
      "metadata": {
        "id": "3O-HLdlUAQuo"
      },
      "id": "3O-HLdlUAQuo",
      "execution_count": 8,
      "outputs": []
    },
    {
      "cell_type": "code",
      "source": [
        "# Train\n",
        "history = model.fit(X_train, y_train, validation_split=0.1, epochs=8, batch_size=32, verbose=2)"
      ],
      "metadata": {
        "colab": {
          "base_uri": "https://localhost:8080/"
        },
        "id": "SmkLsn_lAUQs",
        "outputId": "4b0dc18f-8f12-41b0-f9c4-9d128cd47d17"
      },
      "id": "SmkLsn_lAUQs",
      "execution_count": 9,
      "outputs": [
        {
          "output_type": "stream",
          "name": "stdout",
          "text": [
            "Epoch 1/8\n",
            "58/58 - 4s - 63ms/step - accuracy: 0.4559 - loss: 0.9862 - val_accuracy: 0.6618 - val_loss: 0.5239\n",
            "Epoch 2/8\n",
            "58/58 - 1s - 11ms/step - accuracy: 0.6917 - loss: 0.4660 - val_accuracy: 0.5735 - val_loss: 0.6584\n",
            "Epoch 3/8\n",
            "58/58 - 1s - 12ms/step - accuracy: 0.9101 - loss: 0.2593 - val_accuracy: 1.0000 - val_loss: 0.0222\n",
            "Epoch 4/8\n",
            "58/58 - 1s - 11ms/step - accuracy: 1.0000 - loss: 0.0097 - val_accuracy: 1.0000 - val_loss: 0.0055\n",
            "Epoch 5/8\n",
            "58/58 - 1s - 15ms/step - accuracy: 1.0000 - loss: 0.0040 - val_accuracy: 1.0000 - val_loss: 0.0032\n",
            "Epoch 6/8\n",
            "58/58 - 1s - 26ms/step - accuracy: 1.0000 - loss: 0.0025 - val_accuracy: 1.0000 - val_loss: 0.0022\n",
            "Epoch 7/8\n",
            "58/58 - 1s - 14ms/step - accuracy: 1.0000 - loss: 0.0018 - val_accuracy: 1.0000 - val_loss: 0.0016\n",
            "Epoch 8/8\n",
            "58/58 - 1s - 15ms/step - accuracy: 0.9978 - loss: 0.0135 - val_accuracy: 1.0000 - val_loss: 0.0018\n"
          ]
        }
      ]
    },
    {
      "cell_type": "code",
      "source": [
        "# Plot training curves\n",
        "import matplotlib.pyplot as plt\n",
        "plt.figure(figsize=(8,3))\n",
        "plt.plot(history.history['loss'], label='train loss')\n",
        "plt.plot(history.history['val_loss'], label='val loss')\n",
        "plt.title('Loss curves')\n",
        "plt.legend()\n",
        "plt.show()\n",
        "\n",
        "plt.figure(figsize=(8,3))\n",
        "plt.plot(history.history['accuracy'], label='train acc')\n",
        "plt.plot(history.history['val_accuracy'], label='val acc')\n",
        "plt.title('Accuracy curves')\n",
        "plt.legend()\n",
        "plt.show()"
      ],
      "metadata": {
        "colab": {
          "base_uri": "https://localhost:8080/",
          "height": 611
        },
        "id": "L_LE6oPmAaGO",
        "outputId": "d871e462-0d11-47a3-8f78-5a28d7fa8382"
      },
      "id": "L_LE6oPmAaGO",
      "execution_count": 10,
      "outputs": [
        {
          "output_type": "display_data",
          "data": {
            "text/plain": [
              "<Figure size 800x300 with 1 Axes>"
            ],
            "image/png": "[encoded data removed]"
          },
          "metadata": {}
        },
        {
          "output_type": "display_data",
          "data": {
            "text/plain": [
              "<Figure size 800x300 with 1 Axes>"
            ],
            "image/png": "[encoded data removed]"
          },
          "metadata": {}
        }
      ]
    },
    {
      "cell_type": "code",
      "execution_count": 11,
      "id": "16a4ef94",
      "metadata": {
        "colab": {
          "base_uri": "https://localhost:8080/"
        },
        "id": "16a4ef94",
        "outputId": "b59cd21f-495a-4308-efa0-0eaee7a55d6a"
      },
      "outputs": [
        {
          "output_type": "stream",
          "name": "stdout",
          "text": [
            "\u001b[1m12/12\u001b[0m \u001b[32m━━━━━━━━━━━━━━━━━━━━\u001b[0m\u001b[37m\u001b[0m \u001b[1m0s\u001b[0m 20ms/step\n",
            "Accuracy: 1.0\n",
            "Classification report:\\n               precision    recall  f1-score   support\n",
            "\n",
            "    negative       1.00      1.00      1.00       120\n",
            "     neutral       1.00      1.00      1.00       120\n",
            "    positive       1.00      1.00      1.00       120\n",
            "\n",
            "    accuracy                           1.00       360\n",
            "   macro avg       1.00      1.00      1.00       360\n",
            "weighted avg       1.00      1.00      1.00       360\n",
            "\n",
            "Confusion matrix:\\n [[120   0   0]\n",
            " [  0 120   0]\n",
            " [  0   0 120]]\n"
          ]
        }
      ],
      "source": [
        "# Evaluate\n",
        "y_pred_prob = model.predict(X_test)\n",
        "y_pred = y_pred_prob.argmax(axis=1)\n",
        "print(\"Accuracy:\", accuracy_score(y_test, y_pred))\n",
        "print(\"Classification report:\\\\n\", classification_report(y_test, y_pred, target_names=le.classes_))\n",
        "print(\"Confusion matrix:\\\\n\", confusion_matrix(y_test, y_pred))\n"
      ]
    },
    {
      "cell_type": "markdown",
      "id": "12a6a5d1",
      "metadata": {
        "id": "12a6a5d1"
      },
      "source": [
        "## 5) Inference examples\n",
        "Try a few sample tweets and see predictions. We'll preprocess them the same way."
      ]
    },
    {
      "cell_type": "code",
      "execution_count": 12,
      "id": "c06d951b",
      "metadata": {
        "colab": {
          "base_uri": "https://localhost:8080/"
        },
        "id": "c06d951b",
        "outputId": "8239de72-237b-4ceb-aa8b-9c05a6dfdd5d"
      },
      "outputs": [
        {
          "output_type": "stream",
          "name": "stdout",
          "text": [
            "\u001b[1m1/1\u001b[0m \u001b[32m━━━━━━━━━━━━━━━━━━━━\u001b[0m\u001b[37m\u001b[0m \u001b[1m0s\u001b[0m 34ms/step\n",
            "'love it, best ever!' -> positive\n",
            "'this is awful :(' -> negative\n",
            "'it's okay not amazing' -> neutral\n",
            "'not sure if I like it' -> neutral\n",
            "'absolutely fantastic 😍' -> neutral\n",
            "'meh it's fine' -> neutral\n"
          ]
        }
      ],
      "source": [
        "\n",
        "examples = [\n",
        "    \"love it, best ever!\",\n",
        "    \"this is awful :(\",\n",
        "    \"it's okay not amazing\",\n",
        "    \"not sure if I like it\",\n",
        "    \"absolutely fantastic 😍\",\n",
        "    \"meh it's fine\"\n",
        "]\n",
        "seqs = tokenizer.texts_to_sequences(examples)\n",
        "padded = pad_sequences(seqs, maxlen=maxlen, padding='post')\n",
        "preds = model.predict(padded).argmax(axis=1)\n",
        "for text, p in zip(examples, preds):\n",
        "    print(f\"'{text}' -> {le.inverse_transform([p])[0]}\")\n"
      ]
    },
    {
      "cell_type": "markdown",
      "id": "a2f74ecb",
      "metadata": {
        "id": "a2f74ecb"
      },
      "source": [
        "## 6) Save the tokenizer and model (brief note)\n",
        "In production, save the tokenizer (word index) and model weights so inference code can replicate preprocessing."
      ]
    },
    {
      "cell_type": "code",
      "execution_count": 13,
      "id": "df58d4f7",
      "metadata": {
        "colab": {
          "base_uri": "https://localhost:8080/"
        },
        "id": "df58d4f7",
        "outputId": "3bde7b49-4e3a-45c8-8926-acf835c202be"
      },
      "outputs": [
        {
          "output_type": "stream",
          "name": "stderr",
          "text": [
            "WARNING:absl:You are saving your model as an HDF5 file via `model.save()` or `keras.saving.save_model(model)`. This file format is considered legacy. We recommend using instead the native Keras format, e.g. `model.save('my_model.keras')` or `keras.saving.save_model(model, 'my_model.keras')`. \n"
          ]
        }
      ],
      "source": [
        "\n",
        "# Save model and tokenizer artifacts (demo)\n",
        "model_path = \"lstm_tweet_model.h5\"\n",
        "model.save(model_path)\n",
        "import json\n",
        "token_json = tokenizer.to_json()\n",
        "with open('tokenizer.json','w',encoding='utf-8') as f:\n",
        "    f.write(token_json)\n"
      ]
    },
    {
      "cell_type": "code",
      "source": [],
      "metadata": {
        "id": "mebrpmiTAClt"
      },
      "id": "mebrpmiTAClt",
      "execution_count": null,
      "outputs": []
    }
  ],
  "metadata": {
    "colab": {
      "provenance": []
    },
    "language_info": {
      "name": "python"
    },
    "kernelspec": {
      "name": "python3",
      "display_name": "Python 3"
    }
  },
  "nbformat": 4,
  "nbformat_minor": 5
}