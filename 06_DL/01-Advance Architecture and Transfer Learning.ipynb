{
 "cells": [
  {
   "cell_type": "markdown",
   "metadata": {},
   "source": [
    "### Advanced Architecture in Deep Learning: Residual Neural Networks (ResNet)\n",
    "\n",
    "**Overview:**\n",
    "Residual Neural Networks (ResNets) are a type of deep neural network architecture that introduced skip connections or shortcuts to overcome the vanishing gradient problem. This problem occurs when training very deep networks, where gradients can become too small to effectively update weights in the earlier layers, leading to slower convergence or even degradation in performance.\n",
    "\n",
    "**Easy Example:**\n",
    "Imagine you have a stack of books representing layers in a neural network. Normally, each layer (or book) passes information forward to the next layer. In ResNets, we introduce a shortcut where information from one layer can skip several layers and directly reach a deeper layer. This helps in maintaining and propagating gradients effectively during training, allowing deeper networks to be trained more easily.\n",
    "\n",
    "### Transfer Learning: Using Pre-trained Models for Image Classification\n",
    "\n",
    "**Overview:**\n",
    "Transfer learning involves leveraging a pre-trained model (trained on a large dataset) and adapting it for a different but related task with a smaller dataset. This approach is particularly useful when you have limited data or computational resources.\n",
    "\n",
    "**Easy Example:**\n",
    "Let’s say you want to build a model to classify different types of cars, but you only have a small dataset of car images (a few hundred images). Instead of training a deep neural network from scratch, which might not perform well due to the limited data, you can use a pre-trained model like VGG16 or ResNet that was trained on a large dataset like ImageNet (which includes millions of images across thousands of categories).\n",
    "\n",
    "Here’s how it works:\n",
    "- **Step 1:** Take a pre-trained model (e.g., ResNet) that was trained on ImageNet for generic image recognition tasks.\n",
    "- **Step 2:** Replace the last layer (output layer) of the pre-trained model with a new layer that suits your classification task (e.g., classifying types of cars).\n",
    "- **Step 3:** Retrain the model on your smaller dataset of car images. The initial layers of the pre-trained model have already learned to extract useful features like edges, textures, and shapes, which can significantly boost the performance of your model even with a small amount of data."
   ]
  },
  {
   "cell_type": "markdown",
   "metadata": {},
   "source": [
    "- **Residual Neural Network (ResNet)**: The first example demonstrates creating a ResNet50 model using TensorFlow/Keras, which includes skip connections (residual blocks) to facilitate training deep networks effectively.\n",
    "  \n",
    "- **Transfer Learning with ResNet50**: The second example shows how to use a pre-trained ResNet50 model on the CIFAR-10 dataset for image classification. It loads the ResNet50 model without its top layer, adds custom layers for classification, freezes the base ResNet layers (optional), compiles the model, trains it on CIFAR-10 data, and evaluates its performance."
   ]
  },
  {
   "cell_type": "code",
   "execution_count": null,
   "metadata": {},
   "outputs": [],
   "source": [
    "### Residual Neural Network (ResNet) Example"
   ]
  },
  {
   "cell_type": "code",
   "execution_count": null,
   "metadata": {},
   "outputs": [],
   "source": [
    "import tensorflow as tf\n",
    "from tensorflow.keras import layers, Model\n",
    "from tensorflow.keras.applications import ResNet50"
   ]
  },
  {
   "cell_type": "code",
   "execution_count": null,
   "metadata": {},
   "outputs": [],
   "source": [
    "# Define ResNet50 model with skip connections (Residual Blocks)\n",
    "def create_resnet_model(input_shape, num_classes):\n",
    "    base_model = ResNet50(weights='imagenet', include_top=False, input_shape=input_shape)\n",
    "    x = base_model.output\n",
    "    x = layers.GlobalAveragePooling2D()(x)\n",
    "    x = layers.Dense(512, activation='relu')(x)\n",
    "    predictions = layers.Dense(num_classes, activation='softmax')(x)\n",
    "    model = Model(inputs=base_model.input, outputs=predictions)\n",
    "    return model"
   ]
  },
  {
   "cell_type": "code",
   "execution_count": null,
   "metadata": {},
   "outputs": [],
   "source": [
    "# Example usage\n",
    "input_shape = (224, 224, 3)  # Example input shape for images\n",
    "num_classes = 10  # Example number of classes (e.g., CIFAR-10 has 10 classes)\n",
    "\n",
    "model = create_resnet_model(input_shape, num_classes)\n",
    "model.summary()"
   ]
  },
  {
   "cell_type": "code",
   "execution_count": null,
   "metadata": {},
   "outputs": [],
   "source": [
    "### Transfer Learning Example with ResNet50 on CIFAR-10 Dataset"
   ]
  },
  {
   "cell_type": "code",
   "execution_count": null,
   "metadata": {},
   "outputs": [],
   "source": [
    "import tensorflow as tf\n",
    "from tensorflow.keras.datasets import cifar10\n",
    "from tensorflow.keras.applications import ResNet50\n",
    "from tensorflow.keras.models import Model\n",
    "from tensorflow.keras.layers import Dense, GlobalAveragePooling2D\n",
    "from tensorflow.keras.utils import to_categorical\n",
    "from tensorflow.keras.optimizers import Adam"
   ]
  },
  {
   "cell_type": "code",
   "execution_count": null,
   "metadata": {},
   "outputs": [],
   "source": [
    "# Load CIFAR-10 dataset\n",
    "(train_images, train_labels), (test_images, test_labels) = cifar10.load_data()"
   ]
  },
  {
   "cell_type": "code",
   "execution_count": null,
   "metadata": {},
   "outputs": [],
   "source": [
    "# Preprocess images (normalize and resize)\n",
    "train_images = train_images.astype('float32') / 255.0\n",
    "test_images = test_images.astype('float32') / 255.0"
   ]
  },
  {
   "cell_type": "code",
   "execution_count": null,
   "metadata": {},
   "outputs": [],
   "source": [
    "# Convert labels to categorical\n",
    "train_labels = to_categorical(train_labels, num_classes=10)\n",
    "test_labels = to_categorical(test_labels, num_classes=10)"
   ]
  },
  {
   "cell_type": "code",
   "execution_count": null,
   "metadata": {},
   "outputs": [],
   "source": [
    "# Load pre-trained ResNet50 model without top layer (include_top=False)\n",
    "base_model = ResNet50(weights='imagenet', include_top=False, input_shape=(224, 224, 3))"
   ]
  },
  {
   "cell_type": "code",
   "execution_count": null,
   "metadata": {},
   "outputs": [],
   "source": [
    "# Add custom classification layers on top of ResNet50\n",
    "x = base_model.output\n",
    "x = GlobalAveragePooling2D()(x)\n",
    "x = Dense(512, activation='relu')(x)\n",
    "predictions = Dense(10, activation='softmax')(x)"
   ]
  },
  {
   "cell_type": "code",
   "execution_count": null,
   "metadata": {},
   "outputs": [],
   "source": [
    "# Combine base model and custom layers into a new model\n",
    "model = Model(inputs=base_model.input, outputs=predictions)"
   ]
  },
  {
   "cell_type": "code",
   "execution_count": null,
   "metadata": {},
   "outputs": [],
   "source": [
    "# Freeze the base ResNet layers (optional)\n",
    "for layer in base_model.layers:\n",
    "    layer.trainable = False"
   ]
  },
  {
   "cell_type": "code",
   "execution_count": null,
   "metadata": {},
   "outputs": [],
   "source": [
    "# Compile the model\n",
    "model.compile(optimizer=Adam(0.001), loss='categorical_crossentropy', metrics=['accuracy'])"
   ]
  },
  {
   "cell_type": "code",
   "execution_count": null,
   "metadata": {},
   "outputs": [],
   "source": [
    "# Train the model\n",
    "model.fit(train_images, train_labels, epochs=10, batch_size=32, validation_data=(test_images, test_labels))"
   ]
  },
  {
   "cell_type": "code",
   "execution_count": null,
   "metadata": {},
   "outputs": [],
   "source": [
    "# Evaluate the model\n",
    "loss, accuracy = model.evaluate(test_images, test_labels)\n",
    "print(f'Test accuracy: {accuracy * 100:.2f}%')"
   ]
  },
  {
   "cell_type": "markdown",
   "metadata": {},
   "source": [
    "These examples illustrate practical implementations of advanced deep learning architectures (ResNet) and transfer learning using pre-trained models in TensorFlow/Keras. Adjustments to input shapes, number of classes, and other parameters may be necessary depending on your specific use case."
   ]
  },
  {
   "cell_type": "code",
   "execution_count": null,
   "metadata": {},
   "outputs": [],
   "source": []
  }
 ],
 "metadata": {
  "kernelspec": {
   "display_name": "Python 3",
   "language": "python",
   "name": "python3"
  },
  "language_info": {
   "codemirror_mode": {
    "name": "ipython",
    "version": 3
   },
   "file_extension": ".py",
   "mimetype": "text/x-python",
   "name": "python",
   "nbconvert_exporter": "python",
   "pygments_lexer": "ipython3",
   "version": "3.7.4"
  }
 },
 "nbformat": 4,
 "nbformat_minor": 4
}
